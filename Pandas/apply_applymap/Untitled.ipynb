{
 "cells": [
  {
   "cell_type": "code",
   "execution_count": 1,
   "id": "e748fef7-639b-4897-b6db-1c24272b1492",
   "metadata": {},
   "outputs": [],
   "source": [
    "import pandas as pd\n",
    "import numpy as np"
   ]
  },
  {
   "cell_type": "markdown",
   "id": "5438757e-b486-4127-90ba-548f1c9f63f5",
   "metadata": {},
   "source": [
    "## Series mapメソッド"
   ]
  },
  {
   "cell_type": "code",
   "execution_count": 2,
   "id": "2b0889aa-542c-40fd-a248-feefd229d76a",
   "metadata": {},
   "outputs": [
    {
     "data": {
      "text/plain": [
       "0     7000\n",
       "1     5000\n",
       "2    23000\n",
       "3     2500\n",
       "4    12000\n",
       "dtype: int64"
      ]
     },
     "execution_count": 2,
     "metadata": {},
     "output_type": "execute_result"
    }
   ],
   "source": [
    "s1 = pd.Series([7000, 5000, 23000, 2500, 12000])\n",
    "s1"
   ]
  },
  {
   "cell_type": "code",
   "execution_count": 3,
   "id": "01607602-d268-4dc4-8486-e78171093076",
   "metadata": {},
   "outputs": [
    {
     "data": {
      "text/plain": [
       "0    14000\n",
       "1    10000\n",
       "2    46000\n",
       "3     5000\n",
       "4    24000\n",
       "dtype: int64"
      ]
     },
     "execution_count": 3,
     "metadata": {},
     "output_type": "execute_result"
    }
   ],
   "source": [
    "s1 * 2"
   ]
  },
  {
   "cell_type": "code",
   "execution_count": 4,
   "id": "63cd4fbf-8c21-4d87-af2f-e01f7db1ca9f",
   "metadata": {},
   "outputs": [],
   "source": [
    "def double(x):\n",
    "    return x * 2"
   ]
  },
  {
   "cell_type": "code",
   "execution_count": 6,
   "id": "26081902-30c5-47e3-9ebf-d27ebd8959f1",
   "metadata": {},
   "outputs": [
    {
     "data": {
      "text/plain": [
       "0    14000\n",
       "1    10000\n",
       "2    46000\n",
       "3     5000\n",
       "4    24000\n",
       "dtype: int64"
      ]
     },
     "execution_count": 6,
     "metadata": {},
     "output_type": "execute_result"
    }
   ],
   "source": [
    "s1.map(double)"
   ]
  },
  {
   "cell_type": "code",
   "execution_count": 7,
   "id": "fac0f3bc-7df9-4478-9928-0d88b4d2c478",
   "metadata": {},
   "outputs": [
    {
     "data": {
      "text/plain": [
       "0    14000\n",
       "1    10000\n",
       "2    46000\n",
       "3     5000\n",
       "4    24000\n",
       "dtype: int64"
      ]
     },
     "execution_count": 7,
     "metadata": {},
     "output_type": "execute_result"
    }
   ],
   "source": [
    "s1.map(lambda x: x * 2)"
   ]
  },
  {
   "cell_type": "code",
   "execution_count": 8,
   "id": "89e30f86-c80c-44dd-8e0a-01e3fd443044",
   "metadata": {},
   "outputs": [
    {
     "data": {
      "text/plain": [
       "0    1万円未満\n",
       "1    1万円未満\n",
       "2    1万円以上\n",
       "3    1万円未満\n",
       "4    1万円以上\n",
       "dtype: object"
      ]
     },
     "execution_count": 8,
     "metadata": {},
     "output_type": "execute_result"
    }
   ],
   "source": [
    "s1.map(lambda x: '1万円以上' if x >= 10000 else '1万円未満')"
   ]
  },
  {
   "cell_type": "code",
   "execution_count": 9,
   "id": "20856a47-cd6b-4b73-89fa-41dd33fe382d",
   "metadata": {},
   "outputs": [],
   "source": [
    "def f_rank(x):\n",
    "    if x >= 20000:\n",
    "        return 'S'\n",
    "    elif x >= 10000:\n",
    "        return 'A'\n",
    "    elif x >= 5000:\n",
    "        return 'B'\n",
    "    else:\n",
    "        return 'C'"
   ]
  },
  {
   "cell_type": "code",
   "execution_count": 10,
   "id": "5153a165-3714-4978-a232-034b633a329d",
   "metadata": {},
   "outputs": [
    {
     "data": {
      "text/plain": [
       "0    B\n",
       "1    B\n",
       "2    S\n",
       "3    C\n",
       "4    A\n",
       "dtype: object"
      ]
     },
     "execution_count": 10,
     "metadata": {},
     "output_type": "execute_result"
    }
   ],
   "source": [
    "s1.map(f_rank)"
   ]
  },
  {
   "cell_type": "code",
   "execution_count": 11,
   "id": "676d4c1f-1efb-4cc3-a146-8fdab8aeccba",
   "metadata": {},
   "outputs": [
    {
     "data": {
      "text/plain": [
       "0     49000000\n",
       "1     25000000\n",
       "2    529000000\n",
       "3      6250000\n",
       "4    144000000\n",
       "dtype: int64"
      ]
     },
     "execution_count": 11,
     "metadata": {},
     "output_type": "execute_result"
    }
   ],
   "source": [
    "s1.map(np.square)"
   ]
  },
  {
   "cell_type": "code",
   "execution_count": 12,
   "id": "6179adc9-2bcc-4a04-b040-8e8f2772e2a8",
   "metadata": {},
   "outputs": [
    {
     "data": {
      "text/plain": [
       "0     7000\n",
       "1     5000\n",
       "2    23000\n",
       "3     2500\n",
       "4    12000\n",
       "dtype: int64"
      ]
     },
     "execution_count": 12,
     "metadata": {},
     "output_type": "execute_result"
    }
   ],
   "source": [
    "s1.map(np.sum)"
   ]
  },
  {
   "cell_type": "code",
   "execution_count": 14,
   "id": "a5b5f51e-12b9-4dba-9c2d-aecfb082e524",
   "metadata": {},
   "outputs": [
    {
     "data": {
      "text/plain": [
       "49500"
      ]
     },
     "execution_count": 14,
     "metadata": {},
     "output_type": "execute_result"
    }
   ],
   "source": [
    "s1.sum()"
   ]
  },
  {
   "cell_type": "markdown",
   "id": "72b637b7-e62f-40a7-9d51-8cd2c9e9a2da",
   "metadata": {},
   "source": [
    "## 文字列Series mapメソッド"
   ]
  },
  {
   "cell_type": "code",
   "execution_count": 15,
   "id": "fdb1b0f2-3108-44de-86cf-b6e0b2f2160c",
   "metadata": {},
   "outputs": [
    {
     "data": {
      "text/plain": [
       "0       スカートSkirt\n",
       "1         ニットKnit\n",
       "2     ジャケットJacket\n",
       "3        シャツShirt\n",
       "4    ロングパンツSlacks\n",
       "dtype: object"
      ]
     },
     "execution_count": 15,
     "metadata": {},
     "output_type": "execute_result"
    }
   ],
   "source": [
    "s2 = pd.Series(['スカートSkirt', 'ニットKnit', 'ジャケットJacket', 'シャツShirt', 'ロングパンツSlacks'])\n",
    "s2"
   ]
  },
  {
   "cell_type": "code",
   "execution_count": 16,
   "id": "debca9cc-22ae-43f5-8966-31d90e80ed2a",
   "metadata": {},
   "outputs": [
    {
     "data": {
      "text/plain": [
       "0    ス\n",
       "1    ニ\n",
       "2    ジ\n",
       "3    シ\n",
       "4    ロ\n",
       "dtype: object"
      ]
     },
     "execution_count": 16,
     "metadata": {},
     "output_type": "execute_result"
    }
   ],
   "source": [
    "s2.map(lambda x: x[0])"
   ]
  },
  {
   "cell_type": "code",
   "execution_count": 17,
   "id": "794fb8fa-8d47-4f54-b3bf-96db58a53357",
   "metadata": {},
   "outputs": [
    {
     "data": {
      "text/plain": [
       "0     [Skirt]\n",
       "1      [Knit]\n",
       "2    [Jacket]\n",
       "3     [Shirt]\n",
       "4    [Slacks]\n",
       "dtype: object"
      ]
     },
     "execution_count": 17,
     "metadata": {},
     "output_type": "execute_result"
    }
   ],
   "source": [
    "import re\n",
    "s2.map(lambda x: re.findall('[A-z]+', x))"
   ]
  },
  {
   "cell_type": "code",
   "execution_count": 19,
   "id": "0b56b1d9-4f15-4569-9c6d-9339bb39849d",
   "metadata": {},
   "outputs": [
    {
     "data": {
      "text/plain": [
       "0              スカートSkirt\n",
       "1                ニットKnit\n",
       "2            ジャケットJacket\n",
       "3               シャツShirt\n",
       "4    BottomsロングパンツSlacks\n",
       "dtype: object"
      ]
     },
     "execution_count": 19,
     "metadata": {},
     "output_type": "execute_result"
    }
   ],
   "source": [
    "s3 = pd.Series(['スカートSkirt', 'ニットKnit', 'ジャケットJacket', 'シャツShirt', 'BottomsロングパンツSlacks'])\n",
    "s3"
   ]
  },
  {
   "cell_type": "code",
   "execution_count": 20,
   "id": "dfe671e3-5c40-415b-8de1-12251ef8596e",
   "metadata": {},
   "outputs": [
    {
     "data": {
      "text/plain": [
       "0              [Skirt]\n",
       "1               [Knit]\n",
       "2             [Jacket]\n",
       "3              [Shirt]\n",
       "4    [Bottoms, Slacks]\n",
       "dtype: object"
      ]
     },
     "execution_count": 20,
     "metadata": {},
     "output_type": "execute_result"
    }
   ],
   "source": [
    "s3.map(lambda x: re.findall('[A-z]+', x))"
   ]
  },
  {
   "cell_type": "code",
   "execution_count": 21,
   "id": "f50e705e-4045-4d4c-b06f-07a4941f9238",
   "metadata": {},
   "outputs": [
    {
     "data": {
      "text/plain": [
       "0      スカートSkirt\n",
       "1        ニットKnit\n",
       "2    ジャケットJacket\n",
       "3       シャツShirt\n",
       "4            NaN\n",
       "dtype: object"
      ]
     },
     "execution_count": 21,
     "metadata": {},
     "output_type": "execute_result"
    }
   ],
   "source": [
    "s4 = pd.Series(['スカートSkirt', 'ニットKnit', 'ジャケットJacket', 'シャツShirt', np.nan])\n",
    "s4"
   ]
  },
  {
   "cell_type": "code",
   "execution_count": 22,
   "id": "1d7f106f-2328-40af-b2a8-436d2c793193",
   "metadata": {},
   "outputs": [
    {
     "data": {
      "text/plain": [
       "{'ジャケットJacket': 'Outer',\n",
       " 'スカートSkirt': 'Bottoms',\n",
       " 'ニットKnit': 'Tops',\n",
       " 'ワンピースOnepiece': 'Onepiece'}"
      ]
     },
     "execution_count": 22,
     "metadata": {},
     "output_type": "execute_result"
    }
   ],
   "source": [
    "d = {'ジャケットJacket':'Outer', 'スカートSkirt':'Bottoms', 'ニットKnit':'Tops', 'ワンピースOnepiece':'Onepiece'}\n",
    "d"
   ]
  },
  {
   "cell_type": "code",
   "execution_count": 23,
   "id": "1ec9e992-0c63-4f74-bc00-e9ef7ba6179e",
   "metadata": {},
   "outputs": [
    {
     "data": {
      "text/plain": [
       "0    Bottoms\n",
       "1       Tops\n",
       "2      Outer\n",
       "3        NaN\n",
       "4        NaN\n",
       "dtype: object"
      ]
     },
     "execution_count": 23,
     "metadata": {},
     "output_type": "execute_result"
    }
   ],
   "source": [
    "s4.map(d)"
   ]
  },
  {
   "cell_type": "code",
   "execution_count": 24,
   "id": "5b1e9750-d67d-4d70-b31a-1639ff1a9bbd",
   "metadata": {},
   "outputs": [
    {
     "data": {
      "text/plain": [
       "0      スカートSkirtを買います。\n",
       "1        ニットKnitを買います。\n",
       "2    ジャケットJacketを買います。\n",
       "3       シャツShirtを買います。\n",
       "4            nanを買います。\n",
       "dtype: object"
      ]
     },
     "execution_count": 24,
     "metadata": {},
     "output_type": "execute_result"
    }
   ],
   "source": [
    "s4.map('{}を買います。'.format)"
   ]
  },
  {
   "cell_type": "code",
   "execution_count": 25,
   "id": "a6e34274-4a24-46cc-a2bb-4e94e3abf180",
   "metadata": {},
   "outputs": [
    {
     "data": {
      "text/plain": [
       "0      スカートSkirtを買います。\n",
       "1        ニットKnitを買います。\n",
       "2    ジャケットJacketを買います。\n",
       "3       シャツShirtを買います。\n",
       "4                  NaN\n",
       "dtype: object"
      ]
     },
     "execution_count": 25,
     "metadata": {},
     "output_type": "execute_result"
    }
   ],
   "source": [
    "s4.map('{}を買います。'.format, na_action='ignore')"
   ]
  },
  {
   "cell_type": "markdown",
   "id": "73e3c8b0-2c90-461c-99db-ee91870e5e33",
   "metadata": {},
   "source": [
    "## Seriesとapplyメソッド"
   ]
  },
  {
   "cell_type": "code",
   "execution_count": 27,
   "id": "b8057e98-bd16-4479-a3d6-04c288b29179",
   "metadata": {},
   "outputs": [
    {
     "data": {
      "text/plain": [
       "0     7000\n",
       "1     5000\n",
       "2    23000\n",
       "3     2500\n",
       "4    12000\n",
       "dtype: int64"
      ]
     },
     "execution_count": 27,
     "metadata": {},
     "output_type": "execute_result"
    }
   ],
   "source": [
    "s1"
   ]
  },
  {
   "cell_type": "code",
   "execution_count": 28,
   "id": "0b0f945c-b264-44b4-8346-e458c8d754c7",
   "metadata": {},
   "outputs": [
    {
     "data": {
      "text/plain": [
       "0    14000\n",
       "1    10000\n",
       "2    46000\n",
       "3     5000\n",
       "4    24000\n",
       "dtype: int64"
      ]
     },
     "execution_count": 28,
     "metadata": {},
     "output_type": "execute_result"
    }
   ],
   "source": [
    "s1.apply(double)"
   ]
  },
  {
   "cell_type": "code",
   "execution_count": 29,
   "id": "24ef7579-1fe0-4779-9251-6e974f5179a6",
   "metadata": {},
   "outputs": [
    {
     "data": {
      "text/plain": [
       "0    14000\n",
       "1    10000\n",
       "2    46000\n",
       "3     5000\n",
       "4    24000\n",
       "dtype: int64"
      ]
     },
     "execution_count": 29,
     "metadata": {},
     "output_type": "execute_result"
    }
   ],
   "source": [
    "s1.apply(lambda x: x*2)"
   ]
  },
  {
   "cell_type": "code",
   "execution_count": 30,
   "id": "68ee907b-7252-4cac-92cc-2bba4de1f34c",
   "metadata": {},
   "outputs": [
    {
     "data": {
      "text/plain": [
       "0    1万円未満\n",
       "1    1万円未満\n",
       "2    1万円以上\n",
       "3    1万円未満\n",
       "4    1万円以上\n",
       "dtype: object"
      ]
     },
     "execution_count": 30,
     "metadata": {},
     "output_type": "execute_result"
    }
   ],
   "source": [
    "s1.apply(lambda x: '1万円以上' if x >= 10000 else '1万円未満')"
   ]
  },
  {
   "cell_type": "code",
   "execution_count": 31,
   "id": "2a1ad984-12dd-497a-ba79-e63000107235",
   "metadata": {},
   "outputs": [
    {
     "data": {
      "text/plain": [
       "0    B\n",
       "1    B\n",
       "2    S\n",
       "3    C\n",
       "4    A\n",
       "dtype: object"
      ]
     },
     "execution_count": 31,
     "metadata": {},
     "output_type": "execute_result"
    }
   ],
   "source": [
    "s1.apply(f_rank)"
   ]
  },
  {
   "cell_type": "code",
   "execution_count": 32,
   "id": "40f24d5f-cda7-455e-ba18-62f860ed15a1",
   "metadata": {},
   "outputs": [],
   "source": [
    "def f_tax(x, tax):\n",
    "    return x * tax + x"
   ]
  },
  {
   "cell_type": "code",
   "execution_count": 34,
   "id": "dfc42aef-22a7-47f9-a9ce-81cd9bc5bb3f",
   "metadata": {},
   "outputs": [
    {
     "data": {
      "text/plain": [
       "0     7700.0\n",
       "1     5500.0\n",
       "2    25300.0\n",
       "3     2750.0\n",
       "4    13200.0\n",
       "dtype: float64"
      ]
     },
     "execution_count": 34,
     "metadata": {},
     "output_type": "execute_result"
    }
   ],
   "source": [
    "s1.apply(f_tax, args=(0.1,))"
   ]
  },
  {
   "cell_type": "code",
   "execution_count": 35,
   "id": "1e822005-4816-4c72-9bf8-5dba1909c20c",
   "metadata": {},
   "outputs": [
    {
     "ename": "TypeError",
     "evalue": "map() got an unexpected keyword argument 'args'",
     "output_type": "error",
     "traceback": [
      "\u001b[0;31m---------------------------------------------------------------------------\u001b[0m",
      "\u001b[0;31mTypeError\u001b[0m                                 Traceback (most recent call last)",
      "Input \u001b[0;32mIn [35]\u001b[0m, in \u001b[0;36m<cell line: 1>\u001b[0;34m()\u001b[0m\n\u001b[0;32m----> 1\u001b[0m \u001b[43ms1\u001b[49m\u001b[38;5;241;43m.\u001b[39;49m\u001b[43mmap\u001b[49m\u001b[43m(\u001b[49m\u001b[43mf_tax\u001b[49m\u001b[43m,\u001b[49m\u001b[43m \u001b[49m\u001b[43margs\u001b[49m\u001b[38;5;241;43m=\u001b[39;49m\u001b[43m(\u001b[49m\u001b[38;5;241;43m0.1\u001b[39;49m\u001b[43m,\u001b[49m\u001b[43m)\u001b[49m\u001b[43m)\u001b[49m\n",
      "\u001b[0;31mTypeError\u001b[0m: map() got an unexpected keyword argument 'args'"
     ]
    }
   ],
   "source": [
    "s1.map(f_tax, args=(0.1,))"
   ]
  },
  {
   "cell_type": "code",
   "execution_count": 37,
   "id": "57ef490a-c388-4fa6-a31f-e4d15b555fa0",
   "metadata": {},
   "outputs": [
    {
     "data": {
      "text/plain": [
       "0     49000000\n",
       "1     25000000\n",
       "2    529000000\n",
       "3      6250000\n",
       "4    144000000\n",
       "dtype: int64"
      ]
     },
     "execution_count": 37,
     "metadata": {},
     "output_type": "execute_result"
    }
   ],
   "source": [
    "s1.apply(np.square)"
   ]
  },
  {
   "cell_type": "code",
   "execution_count": 38,
   "id": "20807b6c-89f0-4d5a-856d-156b6a0e840e",
   "metadata": {},
   "outputs": [
    {
     "data": {
      "text/plain": [
       "0     7000\n",
       "1     5000\n",
       "2    23000\n",
       "3     2500\n",
       "4    12000\n",
       "dtype: int64"
      ]
     },
     "execution_count": 38,
     "metadata": {},
     "output_type": "execute_result"
    }
   ],
   "source": [
    "s1.apply(np.sum)"
   ]
  },
  {
   "cell_type": "markdown",
   "id": "d2492188-2056-4689-9ed2-030c066fb1a6",
   "metadata": {},
   "source": [
    "## 文字列Seriesとapplyメソッド"
   ]
  },
  {
   "cell_type": "code",
   "execution_count": 39,
   "id": "4ada756e-12c4-46e3-9d63-71335bbd4a46",
   "metadata": {},
   "outputs": [
    {
     "data": {
      "text/plain": [
       "0       スカートSkirt\n",
       "1         ニットKnit\n",
       "2     ジャケットJacket\n",
       "3        シャツShirt\n",
       "4    ロングパンツSlacks\n",
       "dtype: object"
      ]
     },
     "execution_count": 39,
     "metadata": {},
     "output_type": "execute_result"
    }
   ],
   "source": [
    "s2"
   ]
  },
  {
   "cell_type": "code",
   "execution_count": 40,
   "id": "4150492a-64db-47e0-8c1b-4ea19b445e7d",
   "metadata": {},
   "outputs": [
    {
     "data": {
      "text/plain": [
       "0    ス\n",
       "1    ニ\n",
       "2    ジ\n",
       "3    シ\n",
       "4    ロ\n",
       "dtype: object"
      ]
     },
     "execution_count": 40,
     "metadata": {},
     "output_type": "execute_result"
    }
   ],
   "source": [
    "s2.apply(lambda x: x[0])"
   ]
  },
  {
   "cell_type": "code",
   "execution_count": 42,
   "id": "a24005d8-88ef-422c-99e9-26bc9bb3a65b",
   "metadata": {},
   "outputs": [
    {
     "data": {
      "text/plain": [
       "0     [Skirt]\n",
       "1      [Knit]\n",
       "2    [Jacket]\n",
       "3     [Shirt]\n",
       "4    [Slacks]\n",
       "dtype: object"
      ]
     },
     "execution_count": 42,
     "metadata": {},
     "output_type": "execute_result"
    }
   ],
   "source": [
    "s2.apply(lambda x: re.findall('[A-z]+', x))"
   ]
  },
  {
   "cell_type": "code",
   "execution_count": 43,
   "id": "a5fede4c-b6a2-4f48-8072-c1ec5bf44821",
   "metadata": {},
   "outputs": [
    {
     "ename": "AttributeError",
     "evalue": "'Outer' is not a valid function for 'Series' object",
     "output_type": "error",
     "traceback": [
      "\u001b[0;31m---------------------------------------------------------------------------\u001b[0m",
      "\u001b[0;31mAttributeError\u001b[0m                            Traceback (most recent call last)",
      "Input \u001b[0;32mIn [43]\u001b[0m, in \u001b[0;36m<cell line: 1>\u001b[0;34m()\u001b[0m\n\u001b[0;32m----> 1\u001b[0m \u001b[43ms2\u001b[49m\u001b[38;5;241;43m.\u001b[39;49m\u001b[43mapply\u001b[49m\u001b[43m(\u001b[49m\u001b[43md\u001b[49m\u001b[43m)\u001b[49m\n",
      "File \u001b[0;32m~/opt/anaconda3/lib/python3.9/site-packages/pandas/core/series.py:4433\u001b[0m, in \u001b[0;36mSeries.apply\u001b[0;34m(self, func, convert_dtype, args, **kwargs)\u001b[0m\n\u001b[1;32m   4323\u001b[0m \u001b[38;5;28;01mdef\u001b[39;00m \u001b[38;5;21mapply\u001b[39m(\n\u001b[1;32m   4324\u001b[0m     \u001b[38;5;28mself\u001b[39m,\n\u001b[1;32m   4325\u001b[0m     func: AggFuncType,\n\u001b[0;32m   (...)\u001b[0m\n\u001b[1;32m   4328\u001b[0m     \u001b[38;5;241m*\u001b[39m\u001b[38;5;241m*\u001b[39mkwargs,\n\u001b[1;32m   4329\u001b[0m ) \u001b[38;5;241m-\u001b[39m\u001b[38;5;241m>\u001b[39m DataFrame \u001b[38;5;241m|\u001b[39m Series:\n\u001b[1;32m   4330\u001b[0m     \u001b[38;5;124;03m\"\"\"\u001b[39;00m\n\u001b[1;32m   4331\u001b[0m \u001b[38;5;124;03m    Invoke function on values of Series.\u001b[39;00m\n\u001b[1;32m   4332\u001b[0m \n\u001b[0;32m   (...)\u001b[0m\n\u001b[1;32m   4431\u001b[0m \u001b[38;5;124;03m    dtype: float64\u001b[39;00m\n\u001b[1;32m   4432\u001b[0m \u001b[38;5;124;03m    \"\"\"\u001b[39;00m\n\u001b[0;32m-> 4433\u001b[0m     \u001b[38;5;28;01mreturn\u001b[39;00m \u001b[43mSeriesApply\u001b[49m\u001b[43m(\u001b[49m\u001b[38;5;28;43mself\u001b[39;49m\u001b[43m,\u001b[49m\u001b[43m \u001b[49m\u001b[43mfunc\u001b[49m\u001b[43m,\u001b[49m\u001b[43m \u001b[49m\u001b[43mconvert_dtype\u001b[49m\u001b[43m,\u001b[49m\u001b[43m \u001b[49m\u001b[43margs\u001b[49m\u001b[43m,\u001b[49m\u001b[43m \u001b[49m\u001b[43mkwargs\u001b[49m\u001b[43m)\u001b[49m\u001b[38;5;241;43m.\u001b[39;49m\u001b[43mapply\u001b[49m\u001b[43m(\u001b[49m\u001b[43m)\u001b[49m\n",
      "File \u001b[0;32m~/opt/anaconda3/lib/python3.9/site-packages/pandas/core/apply.py:1076\u001b[0m, in \u001b[0;36mSeriesApply.apply\u001b[0;34m(self)\u001b[0m\n\u001b[1;32m   1074\u001b[0m \u001b[38;5;66;03m# dispatch to agg\u001b[39;00m\n\u001b[1;32m   1075\u001b[0m \u001b[38;5;28;01mif\u001b[39;00m is_list_like(\u001b[38;5;28mself\u001b[39m\u001b[38;5;241m.\u001b[39mf):\n\u001b[0;32m-> 1076\u001b[0m     \u001b[38;5;28;01mreturn\u001b[39;00m \u001b[38;5;28;43mself\u001b[39;49m\u001b[38;5;241;43m.\u001b[39;49m\u001b[43mapply_multiple\u001b[49m\u001b[43m(\u001b[49m\u001b[43m)\u001b[49m\n\u001b[1;32m   1078\u001b[0m \u001b[38;5;28;01mif\u001b[39;00m \u001b[38;5;28misinstance\u001b[39m(\u001b[38;5;28mself\u001b[39m\u001b[38;5;241m.\u001b[39mf, \u001b[38;5;28mstr\u001b[39m):\n\u001b[1;32m   1079\u001b[0m     \u001b[38;5;66;03m# if we are a string, try to dispatch\u001b[39;00m\n\u001b[1;32m   1080\u001b[0m     \u001b[38;5;28;01mreturn\u001b[39;00m \u001b[38;5;28mself\u001b[39m\u001b[38;5;241m.\u001b[39mapply_str()\n",
      "File \u001b[0;32m~/opt/anaconda3/lib/python3.9/site-packages/pandas/core/apply.py:557\u001b[0m, in \u001b[0;36mApply.apply_multiple\u001b[0;34m(self)\u001b[0m\n\u001b[1;32m    548\u001b[0m \u001b[38;5;28;01mdef\u001b[39;00m \u001b[38;5;21mapply_multiple\u001b[39m(\u001b[38;5;28mself\u001b[39m) \u001b[38;5;241m-\u001b[39m\u001b[38;5;241m>\u001b[39m DataFrame \u001b[38;5;241m|\u001b[39m Series:\n\u001b[1;32m    549\u001b[0m     \u001b[38;5;124;03m\"\"\"\u001b[39;00m\n\u001b[1;32m    550\u001b[0m \u001b[38;5;124;03m    Compute apply in case of a list-like or dict-like.\u001b[39;00m\n\u001b[1;32m    551\u001b[0m \n\u001b[0;32m   (...)\u001b[0m\n\u001b[1;32m    555\u001b[0m \u001b[38;5;124;03m        Result when self.f is a list-like or dict-like, None otherwise.\u001b[39;00m\n\u001b[1;32m    556\u001b[0m \u001b[38;5;124;03m    \"\"\"\u001b[39;00m\n\u001b[0;32m--> 557\u001b[0m     \u001b[38;5;28;01mreturn\u001b[39;00m \u001b[38;5;28;43mself\u001b[39;49m\u001b[38;5;241;43m.\u001b[39;49m\u001b[43mobj\u001b[49m\u001b[38;5;241;43m.\u001b[39;49m\u001b[43maggregate\u001b[49m\u001b[43m(\u001b[49m\u001b[38;5;28;43mself\u001b[39;49m\u001b[38;5;241;43m.\u001b[39;49m\u001b[43mf\u001b[49m\u001b[43m,\u001b[49m\u001b[43m \u001b[49m\u001b[38;5;28;43mself\u001b[39;49m\u001b[38;5;241;43m.\u001b[39;49m\u001b[43maxis\u001b[49m\u001b[43m,\u001b[49m\u001b[43m \u001b[49m\u001b[38;5;241;43m*\u001b[39;49m\u001b[38;5;28;43mself\u001b[39;49m\u001b[38;5;241;43m.\u001b[39;49m\u001b[43margs\u001b[49m\u001b[43m,\u001b[49m\u001b[43m \u001b[49m\u001b[38;5;241;43m*\u001b[39;49m\u001b[38;5;241;43m*\u001b[39;49m\u001b[38;5;28;43mself\u001b[39;49m\u001b[38;5;241;43m.\u001b[39;49m\u001b[43mkwargs\u001b[49m\u001b[43m)\u001b[49m\n",
      "File \u001b[0;32m~/opt/anaconda3/lib/python3.9/site-packages/pandas/core/series.py:4303\u001b[0m, in \u001b[0;36mSeries.aggregate\u001b[0;34m(self, func, axis, *args, **kwargs)\u001b[0m\n\u001b[1;32m   4300\u001b[0m     func \u001b[38;5;241m=\u001b[39m \u001b[38;5;28mdict\u001b[39m(kwargs\u001b[38;5;241m.\u001b[39mitems())\n\u001b[1;32m   4302\u001b[0m op \u001b[38;5;241m=\u001b[39m SeriesApply(\u001b[38;5;28mself\u001b[39m, func, convert_dtype\u001b[38;5;241m=\u001b[39m\u001b[38;5;28;01mFalse\u001b[39;00m, args\u001b[38;5;241m=\u001b[39margs, kwargs\u001b[38;5;241m=\u001b[39mkwargs)\n\u001b[0;32m-> 4303\u001b[0m result \u001b[38;5;241m=\u001b[39m \u001b[43mop\u001b[49m\u001b[38;5;241;43m.\u001b[39;49m\u001b[43magg\u001b[49m\u001b[43m(\u001b[49m\u001b[43m)\u001b[49m\n\u001b[1;32m   4304\u001b[0m \u001b[38;5;28;01mreturn\u001b[39;00m result\n",
      "File \u001b[0;32m~/opt/anaconda3/lib/python3.9/site-packages/pandas/core/apply.py:1085\u001b[0m, in \u001b[0;36mSeriesApply.agg\u001b[0;34m(self)\u001b[0m\n\u001b[1;32m   1084\u001b[0m \u001b[38;5;28;01mdef\u001b[39;00m \u001b[38;5;21magg\u001b[39m(\u001b[38;5;28mself\u001b[39m):\n\u001b[0;32m-> 1085\u001b[0m     result \u001b[38;5;241m=\u001b[39m \u001b[38;5;28;43msuper\u001b[39;49m\u001b[43m(\u001b[49m\u001b[43m)\u001b[49m\u001b[38;5;241;43m.\u001b[39;49m\u001b[43magg\u001b[49m\u001b[43m(\u001b[49m\u001b[43m)\u001b[49m\n\u001b[1;32m   1086\u001b[0m     \u001b[38;5;28;01mif\u001b[39;00m result \u001b[38;5;129;01mis\u001b[39;00m \u001b[38;5;28;01mNone\u001b[39;00m:\n\u001b[1;32m   1087\u001b[0m         f \u001b[38;5;241m=\u001b[39m \u001b[38;5;28mself\u001b[39m\u001b[38;5;241m.\u001b[39mf\n",
      "File \u001b[0;32m~/opt/anaconda3/lib/python3.9/site-packages/pandas/core/apply.py:168\u001b[0m, in \u001b[0;36mApply.agg\u001b[0;34m(self)\u001b[0m\n\u001b[1;32m    165\u001b[0m     \u001b[38;5;28;01mreturn\u001b[39;00m \u001b[38;5;28mself\u001b[39m\u001b[38;5;241m.\u001b[39mapply_str()\n\u001b[1;32m    167\u001b[0m \u001b[38;5;28;01mif\u001b[39;00m is_dict_like(arg):\n\u001b[0;32m--> 168\u001b[0m     \u001b[38;5;28;01mreturn\u001b[39;00m \u001b[38;5;28;43mself\u001b[39;49m\u001b[38;5;241;43m.\u001b[39;49m\u001b[43magg_dict_like\u001b[49m\u001b[43m(\u001b[49m\u001b[43m)\u001b[49m\n\u001b[1;32m    169\u001b[0m \u001b[38;5;28;01melif\u001b[39;00m is_list_like(arg):\n\u001b[1;32m    170\u001b[0m     \u001b[38;5;66;03m# we require a list, but not a 'str'\u001b[39;00m\n\u001b[1;32m    171\u001b[0m     \u001b[38;5;28;01mreturn\u001b[39;00m \u001b[38;5;28mself\u001b[39m\u001b[38;5;241m.\u001b[39magg_list_like()\n",
      "File \u001b[0;32m~/opt/anaconda3/lib/python3.9/site-packages/pandas/core/apply.py:472\u001b[0m, in \u001b[0;36mApply.agg_dict_like\u001b[0;34m(self)\u001b[0m\n\u001b[1;32m    469\u001b[0m \u001b[38;5;28;01mif\u001b[39;00m selected_obj\u001b[38;5;241m.\u001b[39mndim \u001b[38;5;241m==\u001b[39m \u001b[38;5;241m1\u001b[39m:\n\u001b[1;32m    470\u001b[0m     \u001b[38;5;66;03m# key only used for output\u001b[39;00m\n\u001b[1;32m    471\u001b[0m     colg \u001b[38;5;241m=\u001b[39m obj\u001b[38;5;241m.\u001b[39m_gotitem(selection, ndim\u001b[38;5;241m=\u001b[39m\u001b[38;5;241m1\u001b[39m)\n\u001b[0;32m--> 472\u001b[0m     results \u001b[38;5;241m=\u001b[39m {key: colg\u001b[38;5;241m.\u001b[39magg(how) \u001b[38;5;28;01mfor\u001b[39;00m key, how \u001b[38;5;129;01min\u001b[39;00m arg\u001b[38;5;241m.\u001b[39mitems()}\n\u001b[1;32m    473\u001b[0m \u001b[38;5;28;01melse\u001b[39;00m:\n\u001b[1;32m    474\u001b[0m     \u001b[38;5;66;03m# key used for column selection and output\u001b[39;00m\n\u001b[1;32m    475\u001b[0m     results \u001b[38;5;241m=\u001b[39m {\n\u001b[1;32m    476\u001b[0m         key: obj\u001b[38;5;241m.\u001b[39m_gotitem(key, ndim\u001b[38;5;241m=\u001b[39m\u001b[38;5;241m1\u001b[39m)\u001b[38;5;241m.\u001b[39magg(how) \u001b[38;5;28;01mfor\u001b[39;00m key, how \u001b[38;5;129;01min\u001b[39;00m arg\u001b[38;5;241m.\u001b[39mitems()\n\u001b[1;32m    477\u001b[0m     }\n",
      "File \u001b[0;32m~/opt/anaconda3/lib/python3.9/site-packages/pandas/core/apply.py:472\u001b[0m, in \u001b[0;36m<dictcomp>\u001b[0;34m(.0)\u001b[0m\n\u001b[1;32m    469\u001b[0m \u001b[38;5;28;01mif\u001b[39;00m selected_obj\u001b[38;5;241m.\u001b[39mndim \u001b[38;5;241m==\u001b[39m \u001b[38;5;241m1\u001b[39m:\n\u001b[1;32m    470\u001b[0m     \u001b[38;5;66;03m# key only used for output\u001b[39;00m\n\u001b[1;32m    471\u001b[0m     colg \u001b[38;5;241m=\u001b[39m obj\u001b[38;5;241m.\u001b[39m_gotitem(selection, ndim\u001b[38;5;241m=\u001b[39m\u001b[38;5;241m1\u001b[39m)\n\u001b[0;32m--> 472\u001b[0m     results \u001b[38;5;241m=\u001b[39m {key: \u001b[43mcolg\u001b[49m\u001b[38;5;241;43m.\u001b[39;49m\u001b[43magg\u001b[49m\u001b[43m(\u001b[49m\u001b[43mhow\u001b[49m\u001b[43m)\u001b[49m \u001b[38;5;28;01mfor\u001b[39;00m key, how \u001b[38;5;129;01min\u001b[39;00m arg\u001b[38;5;241m.\u001b[39mitems()}\n\u001b[1;32m    473\u001b[0m \u001b[38;5;28;01melse\u001b[39;00m:\n\u001b[1;32m    474\u001b[0m     \u001b[38;5;66;03m# key used for column selection and output\u001b[39;00m\n\u001b[1;32m    475\u001b[0m     results \u001b[38;5;241m=\u001b[39m {\n\u001b[1;32m    476\u001b[0m         key: obj\u001b[38;5;241m.\u001b[39m_gotitem(key, ndim\u001b[38;5;241m=\u001b[39m\u001b[38;5;241m1\u001b[39m)\u001b[38;5;241m.\u001b[39magg(how) \u001b[38;5;28;01mfor\u001b[39;00m key, how \u001b[38;5;129;01min\u001b[39;00m arg\u001b[38;5;241m.\u001b[39mitems()\n\u001b[1;32m    477\u001b[0m     }\n",
      "File \u001b[0;32m~/opt/anaconda3/lib/python3.9/site-packages/pandas/core/series.py:4303\u001b[0m, in \u001b[0;36mSeries.aggregate\u001b[0;34m(self, func, axis, *args, **kwargs)\u001b[0m\n\u001b[1;32m   4300\u001b[0m     func \u001b[38;5;241m=\u001b[39m \u001b[38;5;28mdict\u001b[39m(kwargs\u001b[38;5;241m.\u001b[39mitems())\n\u001b[1;32m   4302\u001b[0m op \u001b[38;5;241m=\u001b[39m SeriesApply(\u001b[38;5;28mself\u001b[39m, func, convert_dtype\u001b[38;5;241m=\u001b[39m\u001b[38;5;28;01mFalse\u001b[39;00m, args\u001b[38;5;241m=\u001b[39margs, kwargs\u001b[38;5;241m=\u001b[39mkwargs)\n\u001b[0;32m-> 4303\u001b[0m result \u001b[38;5;241m=\u001b[39m \u001b[43mop\u001b[49m\u001b[38;5;241;43m.\u001b[39;49m\u001b[43magg\u001b[49m\u001b[43m(\u001b[49m\u001b[43m)\u001b[49m\n\u001b[1;32m   4304\u001b[0m \u001b[38;5;28;01mreturn\u001b[39;00m result\n",
      "File \u001b[0;32m~/opt/anaconda3/lib/python3.9/site-packages/pandas/core/apply.py:1085\u001b[0m, in \u001b[0;36mSeriesApply.agg\u001b[0;34m(self)\u001b[0m\n\u001b[1;32m   1084\u001b[0m \u001b[38;5;28;01mdef\u001b[39;00m \u001b[38;5;21magg\u001b[39m(\u001b[38;5;28mself\u001b[39m):\n\u001b[0;32m-> 1085\u001b[0m     result \u001b[38;5;241m=\u001b[39m \u001b[38;5;28;43msuper\u001b[39;49m\u001b[43m(\u001b[49m\u001b[43m)\u001b[49m\u001b[38;5;241;43m.\u001b[39;49m\u001b[43magg\u001b[49m\u001b[43m(\u001b[49m\u001b[43m)\u001b[49m\n\u001b[1;32m   1086\u001b[0m     \u001b[38;5;28;01mif\u001b[39;00m result \u001b[38;5;129;01mis\u001b[39;00m \u001b[38;5;28;01mNone\u001b[39;00m:\n\u001b[1;32m   1087\u001b[0m         f \u001b[38;5;241m=\u001b[39m \u001b[38;5;28mself\u001b[39m\u001b[38;5;241m.\u001b[39mf\n",
      "File \u001b[0;32m~/opt/anaconda3/lib/python3.9/site-packages/pandas/core/apply.py:165\u001b[0m, in \u001b[0;36mApply.agg\u001b[0;34m(self)\u001b[0m\n\u001b[1;32m    162\u001b[0m kwargs \u001b[38;5;241m=\u001b[39m \u001b[38;5;28mself\u001b[39m\u001b[38;5;241m.\u001b[39mkwargs\n\u001b[1;32m    164\u001b[0m \u001b[38;5;28;01mif\u001b[39;00m \u001b[38;5;28misinstance\u001b[39m(arg, \u001b[38;5;28mstr\u001b[39m):\n\u001b[0;32m--> 165\u001b[0m     \u001b[38;5;28;01mreturn\u001b[39;00m \u001b[38;5;28;43mself\u001b[39;49m\u001b[38;5;241;43m.\u001b[39;49m\u001b[43mapply_str\u001b[49m\u001b[43m(\u001b[49m\u001b[43m)\u001b[49m\n\u001b[1;32m    167\u001b[0m \u001b[38;5;28;01mif\u001b[39;00m is_dict_like(arg):\n\u001b[1;32m    168\u001b[0m     \u001b[38;5;28;01mreturn\u001b[39;00m \u001b[38;5;28mself\u001b[39m\u001b[38;5;241m.\u001b[39magg_dict_like()\n",
      "File \u001b[0;32m~/opt/anaconda3/lib/python3.9/site-packages/pandas/core/apply.py:546\u001b[0m, in \u001b[0;36mApply.apply_str\u001b[0;34m(self)\u001b[0m\n\u001b[1;32m    544\u001b[0m     \u001b[38;5;28;01melif\u001b[39;00m \u001b[38;5;28mself\u001b[39m\u001b[38;5;241m.\u001b[39maxis \u001b[38;5;241m!=\u001b[39m \u001b[38;5;241m0\u001b[39m:\n\u001b[1;32m    545\u001b[0m         \u001b[38;5;28;01mraise\u001b[39;00m \u001b[38;5;167;01mValueError\u001b[39;00m(\u001b[38;5;124mf\u001b[39m\u001b[38;5;124m\"\u001b[39m\u001b[38;5;124mOperation \u001b[39m\u001b[38;5;132;01m{\u001b[39;00mf\u001b[38;5;132;01m}\u001b[39;00m\u001b[38;5;124m does not support axis=1\u001b[39m\u001b[38;5;124m\"\u001b[39m)\n\u001b[0;32m--> 546\u001b[0m \u001b[38;5;28;01mreturn\u001b[39;00m \u001b[38;5;28;43mself\u001b[39;49m\u001b[38;5;241;43m.\u001b[39;49m\u001b[43m_try_aggregate_string_function\u001b[49m\u001b[43m(\u001b[49m\u001b[43mobj\u001b[49m\u001b[43m,\u001b[49m\u001b[43m \u001b[49m\u001b[43mf\u001b[49m\u001b[43m,\u001b[49m\u001b[43m \u001b[49m\u001b[38;5;241;43m*\u001b[39;49m\u001b[38;5;28;43mself\u001b[39;49m\u001b[38;5;241;43m.\u001b[39;49m\u001b[43margs\u001b[49m\u001b[43m,\u001b[49m\u001b[43m \u001b[49m\u001b[38;5;241;43m*\u001b[39;49m\u001b[38;5;241;43m*\u001b[39;49m\u001b[38;5;28;43mself\u001b[39;49m\u001b[38;5;241;43m.\u001b[39;49m\u001b[43mkwargs\u001b[49m\u001b[43m)\u001b[49m\n",
      "File \u001b[0;32m~/opt/anaconda3/lib/python3.9/site-packages/pandas/core/apply.py:629\u001b[0m, in \u001b[0;36mApply._try_aggregate_string_function\u001b[0;34m(self, obj, arg, *args, **kwargs)\u001b[0m\n\u001b[1;32m    625\u001b[0m \u001b[38;5;28;01mif\u001b[39;00m f \u001b[38;5;129;01mis\u001b[39;00m \u001b[38;5;129;01mnot\u001b[39;00m \u001b[38;5;28;01mNone\u001b[39;00m \u001b[38;5;129;01mand\u001b[39;00m \u001b[38;5;28mhasattr\u001b[39m(obj, \u001b[38;5;124m\"\u001b[39m\u001b[38;5;124m__array__\u001b[39m\u001b[38;5;124m\"\u001b[39m):\n\u001b[1;32m    626\u001b[0m     \u001b[38;5;66;03m# in particular exclude Window\u001b[39;00m\n\u001b[1;32m    627\u001b[0m     \u001b[38;5;28;01mreturn\u001b[39;00m f(obj, \u001b[38;5;241m*\u001b[39margs, \u001b[38;5;241m*\u001b[39m\u001b[38;5;241m*\u001b[39mkwargs)\n\u001b[0;32m--> 629\u001b[0m \u001b[38;5;28;01mraise\u001b[39;00m \u001b[38;5;167;01mAttributeError\u001b[39;00m(\n\u001b[1;32m    630\u001b[0m     \u001b[38;5;124mf\u001b[39m\u001b[38;5;124m\"\u001b[39m\u001b[38;5;124m'\u001b[39m\u001b[38;5;132;01m{\u001b[39;00marg\u001b[38;5;132;01m}\u001b[39;00m\u001b[38;5;124m'\u001b[39m\u001b[38;5;124m is not a valid function for \u001b[39m\u001b[38;5;124m'\u001b[39m\u001b[38;5;132;01m{\u001b[39;00m\u001b[38;5;28mtype\u001b[39m(obj)\u001b[38;5;241m.\u001b[39m\u001b[38;5;18m__name__\u001b[39m\u001b[38;5;132;01m}\u001b[39;00m\u001b[38;5;124m'\u001b[39m\u001b[38;5;124m object\u001b[39m\u001b[38;5;124m\"\u001b[39m\n\u001b[1;32m    631\u001b[0m )\n",
      "\u001b[0;31mAttributeError\u001b[0m: 'Outer' is not a valid function for 'Series' object"
     ]
    }
   ],
   "source": [
    "s2.apply(d)"
   ]
  },
  {
   "cell_type": "code",
   "execution_count": 44,
   "id": "c14689ce-0800-444c-b5bf-b0ade62401c2",
   "metadata": {},
   "outputs": [
    {
     "data": {
      "text/plain": [
       "0      スカートSkirtを買います。\n",
       "1        ニットKnitを買います。\n",
       "2    ジャケットJacketを買います。\n",
       "3       シャツShirtを買います。\n",
       "4            nanを買います。\n",
       "dtype: object"
      ]
     },
     "execution_count": 44,
     "metadata": {},
     "output_type": "execute_result"
    }
   ],
   "source": [
    "s4.apply('{}を買います。'.format)"
   ]
  },
  {
   "cell_type": "code",
   "execution_count": 45,
   "id": "e540eb54-d124-4236-9a47-5020671b7248",
   "metadata": {},
   "outputs": [
    {
     "data": {
      "text/plain": [
       "0      スカートSkirtを買います。\n",
       "1        ニットKnitを買います。\n",
       "2    ジャケットJacketを買います。\n",
       "3       シャツShirtを買います。\n",
       "4            nanを買います。\n",
       "dtype: object"
      ]
     },
     "execution_count": 45,
     "metadata": {},
     "output_type": "execute_result"
    }
   ],
   "source": [
    "s4.apply('{}を買います。'.format, na_action='ignore')"
   ]
  },
  {
   "cell_type": "markdown",
   "id": "e21362e8-c80a-4584-9a63-2a7736f58a58",
   "metadata": {},
   "source": [
    "## DataFrameとapplymap"
   ]
  },
  {
   "cell_type": "code",
   "execution_count": null,
   "id": "109c41d8-46ed-43c2-8d03-4a89d9a32370",
   "metadata": {},
   "outputs": [],
   "source": []
  },
  {
   "cell_type": "code",
   "execution_count": null,
   "id": "38370a19-77a8-4501-8f3c-ef7732a267af",
   "metadata": {},
   "outputs": [],
   "source": []
  },
  {
   "cell_type": "code",
   "execution_count": null,
   "id": "60edc5cb-ccf3-4ad8-9750-752bcaba6c34",
   "metadata": {},
   "outputs": [],
   "source": []
  },
  {
   "cell_type": "code",
   "execution_count": null,
   "id": "91337427-9c90-45e7-b5a5-db69152de7f1",
   "metadata": {},
   "outputs": [],
   "source": []
  },
  {
   "cell_type": "code",
   "execution_count": null,
   "id": "d0d5e6cc-4130-4a5d-b89e-7804218279d3",
   "metadata": {},
   "outputs": [],
   "source": []
  },
  {
   "cell_type": "code",
   "execution_count": null,
   "id": "83fa9423-d5d2-4bd8-b031-44e36e178056",
   "metadata": {},
   "outputs": [],
   "source": []
  },
  {
   "cell_type": "code",
   "execution_count": null,
   "id": "10ddf41a-cc84-44a0-91a8-81c4d1eeee4d",
   "metadata": {},
   "outputs": [],
   "source": []
  },
  {
   "cell_type": "code",
   "execution_count": null,
   "id": "ebebfaf2-5572-4318-bbd5-a9fecf6c5834",
   "metadata": {},
   "outputs": [],
   "source": []
  },
  {
   "cell_type": "code",
   "execution_count": null,
   "id": "4cc922a9-8897-4053-a7ef-3f4c85952661",
   "metadata": {},
   "outputs": [],
   "source": []
  }
 ],
 "metadata": {
  "kernelspec": {
   "display_name": "Python 3 (ipykernel)",
   "language": "python",
   "name": "python3"
  },
  "language_info": {
   "codemirror_mode": {
    "name": "ipython",
    "version": 3
   },
   "file_extension": ".py",
   "mimetype": "text/x-python",
   "name": "python",
   "nbconvert_exporter": "python",
   "pygments_lexer": "ipython3",
   "version": "3.9.12"
  }
 },
 "nbformat": 4,
 "nbformat_minor": 5
}
