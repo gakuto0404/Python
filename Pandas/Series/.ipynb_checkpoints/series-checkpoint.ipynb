{
 "cells": [
  {
   "cell_type": "code",
   "execution_count": 1,
   "id": "aebc0767-57e3-4126-94cf-470a3b64de60",
   "metadata": {},
   "outputs": [],
   "source": [
    "# pandasが使えるようにインポート\n",
    "import pandas as pd"
   ]
  },
  {
   "cell_type": "code",
   "execution_count": 2,
   "id": "fe668603-0c9d-4fff-9f5e-da56d13ce80c",
   "metadata": {},
   "outputs": [
    {
     "data": {
      "text/plain": [
       "0    90\n",
       "1    78\n",
       "2    65\n",
       "3    87\n",
       "4    72\n",
       "dtype: int64"
      ]
     },
     "execution_count": 2,
     "metadata": {},
     "output_type": "execute_result"
    }
   ],
   "source": [
    "# リストを使用してSeriesを作成\n",
    "s1 = pd.Series([90,78,65,87,72])\n",
    "s1"
   ]
  },
  {
   "cell_type": "code",
   "execution_count": 3,
   "id": "8fd5028a-7bcd-4fba-924e-b0686abb4232",
   "metadata": {},
   "outputs": [],
   "source": [
    "# 変数に代入して\n",
    "data = [90,78,65,87,72]"
   ]
  },
  {
   "cell_type": "code",
   "execution_count": 4,
   "id": "4ec8424f-91ad-4c5b-8ba1-bfadf2b38249",
   "metadata": {},
   "outputs": [
    {
     "data": {
      "text/plain": [
       "0    90\n",
       "1    78\n",
       "2    65\n",
       "3    87\n",
       "4    72\n",
       "dtype: int64"
      ]
     },
     "execution_count": 4,
     "metadata": {},
     "output_type": "execute_result"
    }
   ],
   "source": [
    "# Seriesを作成\n",
    "s1 = pd.Series(data)\n",
    "s1"
   ]
  },
  {
   "cell_type": "code",
   "execution_count": 5,
   "id": "7bde703a-63bc-43a9-b86a-05969784ee7c",
   "metadata": {},
   "outputs": [],
   "source": [
    "# numpyとは高速にリストの計算をするためのライブラリをimport\n",
    "import numpy as np"
   ]
  },
  {
   "cell_type": "code",
   "execution_count": 6,
   "id": "bcec6ce9-80ff-4067-85e3-2ff6072caae7",
   "metadata": {},
   "outputs": [
    {
     "data": {
      "text/plain": [
       "array([1, 3, 5, 7, 9])"
      ]
     },
     "execution_count": 6,
     "metadata": {},
     "output_type": "execute_result"
    }
   ],
   "source": [
    "# １から１０までの間で２づつ増やしていく、奇数のリストの作成\n",
    "np.arange(1, 10, 2)"
   ]
  },
  {
   "cell_type": "code",
   "execution_count": 7,
   "id": "68865b69-c5eb-41f4-8a6d-09cff3ab59f8",
   "metadata": {},
   "outputs": [
    {
     "data": {
      "text/plain": [
       "0    1\n",
       "1    3\n",
       "2    5\n",
       "3    7\n",
       "4    9\n",
       "dtype: int64"
      ]
     },
     "execution_count": 7,
     "metadata": {},
     "output_type": "execute_result"
    }
   ],
   "source": [
    "# 代入してSeriesの作成\n",
    "s2 = pd.Series(np.arange(1, 10, 2))\n",
    "s2"
   ]
  },
  {
   "cell_type": "code",
   "execution_count": 8,
   "id": "8bcfb182-a2c4-40f2-adea-ea912d86328e",
   "metadata": {},
   "outputs": [],
   "source": [
    "# 変数に代入して\n",
    "data = np.arange(1, 10, 2)"
   ]
  },
  {
   "cell_type": "code",
   "execution_count": 9,
   "id": "7d36b015-99d9-4bb4-85a9-007b586f7532",
   "metadata": {},
   "outputs": [
    {
     "data": {
      "text/plain": [
       "0    1\n",
       "1    3\n",
       "2    5\n",
       "3    7\n",
       "4    9\n",
       "dtype: int64"
      ]
     },
     "execution_count": 9,
     "metadata": {},
     "output_type": "execute_result"
    }
   ],
   "source": [
    "# Seriesを作成\n",
    "s1 = pd.Series(data)\n",
    "s1"
   ]
  },
  {
   "cell_type": "code",
   "execution_count": null,
   "id": "7378a108-aff0-41d1-805a-70c78b31349f",
   "metadata": {},
   "outputs": [],
   "source": []
  },
  {
   "cell_type": "code",
   "execution_count": 11,
   "id": "d0849496-6781-4099-aa9c-2b6d4f8b3602",
   "metadata": {},
   "outputs": [
    {
     "data": {
      "text/plain": [
       "0    1\n",
       "1    3\n",
       "2    5\n",
       "3    7\n",
       "4    9\n",
       "dtype: int64"
      ]
     },
     "execution_count": 11,
     "metadata": {},
     "output_type": "execute_result"
    }
   ],
   "source": [
    "s1 # 確認"
   ]
  },
  {
   "cell_type": "code",
   "execution_count": 12,
   "id": "37a1fd3b-091f-4d5e-b12d-a4605cede892",
   "metadata": {},
   "outputs": [
    {
     "data": {
      "text/plain": [
       "dtype('int64')"
      ]
     },
     "execution_count": 12,
     "metadata": {},
     "output_type": "execute_result"
    }
   ],
   "source": [
    "s1.dtypes # データ型の確認"
   ]
  },
  {
   "cell_type": "code",
   "execution_count": 13,
   "id": "36a6a542-ef01-4496-88d4-e2f7af2464cc",
   "metadata": {},
   "outputs": [
    {
     "data": {
      "text/plain": [
       "RangeIndex(start=0, stop=5, step=1)"
      ]
     },
     "execution_count": 13,
     "metadata": {},
     "output_type": "execute_result"
    }
   ],
   "source": [
    "s1.index # indexの取得"
   ]
  },
  {
   "cell_type": "code",
   "execution_count": 14,
   "id": "9f2cc99c-76b7-41c5-8ac5-9f15dcd56a92",
   "metadata": {},
   "outputs": [
    {
     "data": {
      "text/plain": [
       "佐藤    1\n",
       "鈴木    3\n",
       "坂本    5\n",
       "田中    7\n",
       "伊藤    9\n",
       "dtype: int64"
      ]
     },
     "execution_count": 14,
     "metadata": {},
     "output_type": "execute_result"
    }
   ],
   "source": [
    "# indexの変更\n",
    "s1.index = ['佐藤', '鈴木', '坂本', '田中', '伊藤']\n",
    "s1"
   ]
  },
  {
   "cell_type": "code",
   "execution_count": 15,
   "id": "69591cab-33b3-4556-8a3a-1acf5e6292cb",
   "metadata": {},
   "outputs": [
    {
     "data": {
      "text/plain": [
       "Index(['佐藤', '鈴木', '坂本', '田中', '伊藤'], dtype='object')"
      ]
     },
     "execution_count": 15,
     "metadata": {},
     "output_type": "execute_result"
    }
   ],
   "source": [
    "s1.index # indexの確認"
   ]
  },
  {
   "cell_type": "code",
   "execution_count": null,
   "id": "68668642-0e15-409a-865d-5d9937ebb2e6",
   "metadata": {},
   "outputs": [],
   "source": []
  },
  {
   "cell_type": "code",
   "execution_count": 16,
   "id": "3f6081ae-1374-4977-a35a-8526ea6fe995",
   "metadata": {},
   "outputs": [],
   "source": [
    "# 辞書型データを変数に代入\n",
    "dict01 = {'佐藤':90, '鈴木':78, '坂本':65, '田中':87, '伊藤':72}"
   ]
  },
  {
   "cell_type": "code",
   "execution_count": 17,
   "id": "d71dd694-64fa-4a3b-9a3c-13d59f177b11",
   "metadata": {},
   "outputs": [
    {
     "data": {
      "text/plain": [
       "佐藤    90\n",
       "鈴木    78\n",
       "坂本    65\n",
       "田中    87\n",
       "伊藤    72\n",
       "dtype: int64"
      ]
     },
     "execution_count": 17,
     "metadata": {},
     "output_type": "execute_result"
    }
   ],
   "source": [
    "# 変数を入れて、Seriesの作成\n",
    "s1 = pd.Series(dict01)\n",
    "s1"
   ]
  },
  {
   "cell_type": "code",
   "execution_count": null,
   "id": "9fbcf9e2-a717-4cc7-b1d4-678f1d0f5b6d",
   "metadata": {},
   "outputs": [],
   "source": []
  },
  {
   "cell_type": "code",
   "execution_count": 18,
   "id": "09f9b1de-e825-445e-aad9-79ba7f11eefe",
   "metadata": {},
   "outputs": [
    {
     "data": {
      "text/plain": [
       "array([90, 78, 65, 87, 72])"
      ]
     },
     "execution_count": 18,
     "metadata": {},
     "output_type": "execute_result"
    }
   ],
   "source": [
    "s1.values # s1の中の値を確認"
   ]
  },
  {
   "cell_type": "code",
   "execution_count": 19,
   "id": "a1475a83-b2b7-4c48-bfa0-6d9af4685a7d",
   "metadata": {},
   "outputs": [
    {
     "data": {
      "text/plain": [
       "90"
      ]
     },
     "execution_count": 19,
     "metadata": {},
     "output_type": "execute_result"
    }
   ],
   "source": [
    "s1['佐藤'] # s1の中の指定された値を確認"
   ]
  },
  {
   "cell_type": "code",
   "execution_count": 21,
   "id": "44c8a3c5-6ff3-4b43-a9e3-076c8b4a066f",
   "metadata": {},
   "outputs": [
    {
     "data": {
      "text/plain": [
       "78"
      ]
     },
     "execution_count": 21,
     "metadata": {},
     "output_type": "execute_result"
    }
   ],
   "source": [
    "s1[1] # index番号を使用してs1の中の指定された値を確認"
   ]
  },
  {
   "cell_type": "code",
   "execution_count": 22,
   "id": "c14e3607-61b7-40a8-b339-0972644aba43",
   "metadata": {},
   "outputs": [
    {
     "data": {
      "text/plain": [
       "鈴木    78\n",
       "田中    87\n",
       "dtype: int64"
      ]
     },
     "execution_count": 22,
     "metadata": {},
     "output_type": "execute_result"
    }
   ],
   "source": [
    "# リストを入れることでindexにある指定された値の表示\n",
    "s1[['鈴木' ,'田中']]"
   ]
  },
  {
   "cell_type": "code",
   "execution_count": 23,
   "id": "9d2b7900-7953-4839-a24d-27899699605d",
   "metadata": {},
   "outputs": [
    {
     "data": {
      "text/plain": [
       "佐藤    90\n",
       "伊藤    72\n",
       "dtype: int64"
      ]
     },
     "execution_count": 23,
     "metadata": {},
     "output_type": "execute_result"
    }
   ],
   "source": [
    "s1[[0,4]] # 数値を入れるとそれに該当する値の表示0番目,4番目"
   ]
  },
  {
   "cell_type": "markdown",
   "id": "f4f70e23-0c4f-4467-b234-05180e040533",
   "metadata": {},
   "source": [
    "### 比較演算子を使用する"
   ]
  },
  {
   "cell_type": "code",
   "execution_count": 26,
   "id": "1cacb63f-ed92-4f2a-8d6d-7dd50ef8144f",
   "metadata": {},
   "outputs": [
    {
     "data": {
      "text/plain": [
       "佐藤     True\n",
       "鈴木    False\n",
       "坂本    False\n",
       "田中     True\n",
       "伊藤    False\n",
       "dtype: bool"
      ]
     },
     "execution_count": 26,
     "metadata": {},
     "output_type": "execute_result"
    }
   ],
   "source": [
    "s1 > 80"
   ]
  },
  {
   "cell_type": "code",
   "execution_count": 27,
   "id": "8e3a8d38-f94e-4adc-96a6-4514f371b6d3",
   "metadata": {},
   "outputs": [
    {
     "data": {
      "text/plain": [
       "佐藤    90\n",
       "田中    87\n",
       "dtype: int64"
      ]
     },
     "execution_count": 27,
     "metadata": {},
     "output_type": "execute_result"
    }
   ],
   "source": [
    "s1[s1 > 80] # 80点より大きい数値の表示"
   ]
  },
  {
   "cell_type": "code",
   "execution_count": 28,
   "id": "d81209ae-d289-4891-8dff-0868b7ff205b",
   "metadata": {},
   "outputs": [
    {
     "data": {
      "text/plain": [
       "鈴木    78\n",
       "坂本    65\n",
       "伊藤    72\n",
       "dtype: int64"
      ]
     },
     "execution_count": 28,
     "metadata": {},
     "output_type": "execute_result"
    }
   ],
   "source": [
    "s1[s1 <= 80] # 80点以下の数値の表示"
   ]
  },
  {
   "cell_type": "code",
   "execution_count": 29,
   "id": "d192f65d-ff0b-431c-8587-e99afd6508e9",
   "metadata": {},
   "outputs": [
    {
     "data": {
      "text/plain": [
       "5"
      ]
     },
     "execution_count": 29,
     "metadata": {},
     "output_type": "execute_result"
    }
   ],
   "source": [
    "s1.size # 要素数の取得"
   ]
  },
  {
   "cell_type": "code",
   "execution_count": 30,
   "id": "6510e694-a569-41e1-94b7-b1bd81b4861f",
   "metadata": {},
   "outputs": [
    {
     "data": {
      "text/plain": [
       "5"
      ]
     },
     "execution_count": 30,
     "metadata": {},
     "output_type": "execute_result"
    }
   ],
   "source": [
    "len(s1) # 要素数の取得（別）"
   ]
  },
  {
   "cell_type": "code",
   "execution_count": 31,
   "id": "82c76161-30a7-49fb-a027-a864369cfab5",
   "metadata": {},
   "outputs": [
    {
     "data": {
      "text/plain": [
       "member\n",
       "佐藤    90\n",
       "鈴木    78\n",
       "坂本    65\n",
       "田中    87\n",
       "伊藤    72\n",
       "Name: score, dtype: int64"
      ]
     },
     "execution_count": 31,
     "metadata": {},
     "output_type": "execute_result"
    }
   ],
   "source": [
    "# indexとデータ部分に名前をつける\n",
    "s1.index.name = 'member'\n",
    "s1.name = 'score'\n",
    "s1"
   ]
  },
  {
   "cell_type": "markdown",
   "id": "46df9b20-5ecf-4f3c-b2c5-21a91086a74d",
   "metadata": {},
   "source": [
    "### 四則演算"
   ]
  },
  {
   "cell_type": "code",
   "execution_count": 39,
   "id": "4ddbfa66-7c68-4804-bb68-a87d36ea55c8",
   "metadata": {},
   "outputs": [
    {
     "data": {
      "text/plain": [
       "member\n",
       "佐藤    92\n",
       "鈴木    80\n",
       "坂本    67\n",
       "田中    89\n",
       "伊藤    74\n",
       "Name: score, dtype: int64"
      ]
     },
     "execution_count": 39,
     "metadata": {},
     "output_type": "execute_result"
    }
   ],
   "source": [
    "s1 + 2"
   ]
  },
  {
   "cell_type": "code",
   "execution_count": 40,
   "id": "cf3b63fd-d83b-40f1-b519-16d6b372304b",
   "metadata": {},
   "outputs": [
    {
     "data": {
      "text/plain": [
       "member\n",
       "佐藤    88\n",
       "鈴木    76\n",
       "坂本    63\n",
       "田中    85\n",
       "伊藤    70\n",
       "Name: score, dtype: int64"
      ]
     },
     "execution_count": 40,
     "metadata": {},
     "output_type": "execute_result"
    }
   ],
   "source": [
    "s1 - 2"
   ]
  },
  {
   "cell_type": "code",
   "execution_count": 41,
   "id": "a8324ba4-4b77-4252-af87-a5550573b1de",
   "metadata": {},
   "outputs": [
    {
     "data": {
      "text/plain": [
       "member\n",
       "佐藤    180\n",
       "鈴木    156\n",
       "坂本    130\n",
       "田中    174\n",
       "伊藤    144\n",
       "Name: score, dtype: int64"
      ]
     },
     "execution_count": 41,
     "metadata": {},
     "output_type": "execute_result"
    }
   ],
   "source": [
    "s1 * 2"
   ]
  },
  {
   "cell_type": "code",
   "execution_count": 42,
   "id": "6ce6661c-14ea-4410-a4e8-238681e41443",
   "metadata": {},
   "outputs": [
    {
     "data": {
      "text/plain": [
       "member\n",
       "佐藤    45.0\n",
       "鈴木    39.0\n",
       "坂本    32.5\n",
       "田中    43.5\n",
       "伊藤    36.0\n",
       "Name: score, dtype: float64"
      ]
     },
     "execution_count": 42,
     "metadata": {},
     "output_type": "execute_result"
    }
   ],
   "source": [
    "s1 / 2"
   ]
  },
  {
   "cell_type": "code",
   "execution_count": 43,
   "id": "7bab77fb-b2db-43d5-8e28-411778f55b30",
   "metadata": {},
   "outputs": [
    {
     "data": {
      "text/plain": [
       "member\n",
       "佐藤    90\n",
       "鈴木    78\n",
       "坂本    65\n",
       "田中    87\n",
       "伊藤    72\n",
       "Name: score, dtype: int64"
      ]
     },
     "execution_count": 43,
     "metadata": {},
     "output_type": "execute_result"
    }
   ],
   "source": [
    "s1"
   ]
  },
  {
   "cell_type": "code",
   "execution_count": 32,
   "id": "68c53f0a-762d-49b8-943a-27c756f1af83",
   "metadata": {},
   "outputs": [
    {
     "ename": "TypeError",
     "evalue": "can only concatenate str (not \"int\") to str",
     "output_type": "error",
     "traceback": [
      "\u001b[0;31m---------------------------------------------------------------------------\u001b[0m",
      "\u001b[0;31mTypeError\u001b[0m                                 Traceback (most recent call last)",
      "File \u001b[0;32m~/opt/anaconda3/lib/python3.9/site-packages/pandas/core/ops/array_ops.py:163\u001b[0m, in \u001b[0;36m_na_arithmetic_op\u001b[0;34m(left, right, op, is_cmp)\u001b[0m\n\u001b[1;32m    162\u001b[0m \u001b[38;5;28;01mtry\u001b[39;00m:\n\u001b[0;32m--> 163\u001b[0m     result \u001b[38;5;241m=\u001b[39m \u001b[43mfunc\u001b[49m\u001b[43m(\u001b[49m\u001b[43mleft\u001b[49m\u001b[43m,\u001b[49m\u001b[43m \u001b[49m\u001b[43mright\u001b[49m\u001b[43m)\u001b[49m\n\u001b[1;32m    164\u001b[0m \u001b[38;5;28;01mexcept\u001b[39;00m \u001b[38;5;167;01mTypeError\u001b[39;00m:\n",
      "File \u001b[0;32m~/opt/anaconda3/lib/python3.9/site-packages/pandas/core/computation/expressions.py:239\u001b[0m, in \u001b[0;36mevaluate\u001b[0;34m(op, a, b, use_numexpr)\u001b[0m\n\u001b[1;32m    237\u001b[0m     \u001b[38;5;28;01mif\u001b[39;00m use_numexpr:\n\u001b[1;32m    238\u001b[0m         \u001b[38;5;66;03m# error: \"None\" not callable\u001b[39;00m\n\u001b[0;32m--> 239\u001b[0m         \u001b[38;5;28;01mreturn\u001b[39;00m \u001b[43m_evaluate\u001b[49m\u001b[43m(\u001b[49m\u001b[43mop\u001b[49m\u001b[43m,\u001b[49m\u001b[43m \u001b[49m\u001b[43mop_str\u001b[49m\u001b[43m,\u001b[49m\u001b[43m \u001b[49m\u001b[43ma\u001b[49m\u001b[43m,\u001b[49m\u001b[43m \u001b[49m\u001b[43mb\u001b[49m\u001b[43m)\u001b[49m  \u001b[38;5;66;03m# type: ignore[misc]\u001b[39;00m\n\u001b[1;32m    240\u001b[0m \u001b[38;5;28;01mreturn\u001b[39;00m _evaluate_standard(op, op_str, a, b)\n",
      "File \u001b[0;32m~/opt/anaconda3/lib/python3.9/site-packages/pandas/core/computation/expressions.py:128\u001b[0m, in \u001b[0;36m_evaluate_numexpr\u001b[0;34m(op, op_str, a, b)\u001b[0m\n\u001b[1;32m    127\u001b[0m \u001b[38;5;28;01mif\u001b[39;00m result \u001b[38;5;129;01mis\u001b[39;00m \u001b[38;5;28;01mNone\u001b[39;00m:\n\u001b[0;32m--> 128\u001b[0m     result \u001b[38;5;241m=\u001b[39m \u001b[43m_evaluate_standard\u001b[49m\u001b[43m(\u001b[49m\u001b[43mop\u001b[49m\u001b[43m,\u001b[49m\u001b[43m \u001b[49m\u001b[43mop_str\u001b[49m\u001b[43m,\u001b[49m\u001b[43m \u001b[49m\u001b[43ma\u001b[49m\u001b[43m,\u001b[49m\u001b[43m \u001b[49m\u001b[43mb\u001b[49m\u001b[43m)\u001b[49m\n\u001b[1;32m    130\u001b[0m \u001b[38;5;28;01mreturn\u001b[39;00m result\n",
      "File \u001b[0;32m~/opt/anaconda3/lib/python3.9/site-packages/pandas/core/computation/expressions.py:69\u001b[0m, in \u001b[0;36m_evaluate_standard\u001b[0;34m(op, op_str, a, b)\u001b[0m\n\u001b[1;32m     68\u001b[0m     _store_test_result(\u001b[38;5;28;01mFalse\u001b[39;00m)\n\u001b[0;32m---> 69\u001b[0m \u001b[38;5;28;01mreturn\u001b[39;00m \u001b[43mop\u001b[49m\u001b[43m(\u001b[49m\u001b[43ma\u001b[49m\u001b[43m,\u001b[49m\u001b[43m \u001b[49m\u001b[43mb\u001b[49m\u001b[43m)\u001b[49m\n",
      "\u001b[0;31mTypeError\u001b[0m: can only concatenate str (not \"int\") to str",
      "\nDuring handling of the above exception, another exception occurred:\n",
      "\u001b[0;31mTypeError\u001b[0m                                 Traceback (most recent call last)",
      "Input \u001b[0;32mIn [32]\u001b[0m, in \u001b[0;36m<cell line: 3>\u001b[0;34m()\u001b[0m\n\u001b[1;32m      1\u001b[0m \u001b[38;5;66;03m# 文字列の四則演算はエラー\u001b[39;00m\n\u001b[1;32m      2\u001b[0m s5 \u001b[38;5;241m=\u001b[39m pd\u001b[38;5;241m.\u001b[39mSeries([\u001b[38;5;124m'\u001b[39m\u001b[38;5;124mtest\u001b[39m\u001b[38;5;124m'\u001b[39m])\n\u001b[0;32m----> 3\u001b[0m \u001b[43ms5\u001b[49m\u001b[43m \u001b[49m\u001b[38;5;241;43m+\u001b[39;49m\u001b[43m \u001b[49m\u001b[38;5;241;43m2\u001b[39;49m\n\u001b[1;32m      4\u001b[0m s5\n",
      "File \u001b[0;32m~/opt/anaconda3/lib/python3.9/site-packages/pandas/core/ops/common.py:70\u001b[0m, in \u001b[0;36m_unpack_zerodim_and_defer.<locals>.new_method\u001b[0;34m(self, other)\u001b[0m\n\u001b[1;32m     66\u001b[0m             \u001b[38;5;28;01mreturn\u001b[39;00m \u001b[38;5;28mNotImplemented\u001b[39m\n\u001b[1;32m     68\u001b[0m other \u001b[38;5;241m=\u001b[39m item_from_zerodim(other)\n\u001b[0;32m---> 70\u001b[0m \u001b[38;5;28;01mreturn\u001b[39;00m \u001b[43mmethod\u001b[49m\u001b[43m(\u001b[49m\u001b[38;5;28;43mself\u001b[39;49m\u001b[43m,\u001b[49m\u001b[43m \u001b[49m\u001b[43mother\u001b[49m\u001b[43m)\u001b[49m\n",
      "File \u001b[0;32m~/opt/anaconda3/lib/python3.9/site-packages/pandas/core/arraylike.py:100\u001b[0m, in \u001b[0;36mOpsMixin.__add__\u001b[0;34m(self, other)\u001b[0m\n\u001b[1;32m     98\u001b[0m \u001b[38;5;129m@unpack_zerodim_and_defer\u001b[39m(\u001b[38;5;124m\"\u001b[39m\u001b[38;5;124m__add__\u001b[39m\u001b[38;5;124m\"\u001b[39m)\n\u001b[1;32m     99\u001b[0m \u001b[38;5;28;01mdef\u001b[39;00m \u001b[38;5;21m__add__\u001b[39m(\u001b[38;5;28mself\u001b[39m, other):\n\u001b[0;32m--> 100\u001b[0m     \u001b[38;5;28;01mreturn\u001b[39;00m \u001b[38;5;28;43mself\u001b[39;49m\u001b[38;5;241;43m.\u001b[39;49m\u001b[43m_arith_method\u001b[49m\u001b[43m(\u001b[49m\u001b[43mother\u001b[49m\u001b[43m,\u001b[49m\u001b[43m \u001b[49m\u001b[43moperator\u001b[49m\u001b[38;5;241;43m.\u001b[39;49m\u001b[43madd\u001b[49m\u001b[43m)\u001b[49m\n",
      "File \u001b[0;32m~/opt/anaconda3/lib/python3.9/site-packages/pandas/core/series.py:5639\u001b[0m, in \u001b[0;36mSeries._arith_method\u001b[0;34m(self, other, op)\u001b[0m\n\u001b[1;32m   5637\u001b[0m \u001b[38;5;28;01mdef\u001b[39;00m \u001b[38;5;21m_arith_method\u001b[39m(\u001b[38;5;28mself\u001b[39m, other, op):\n\u001b[1;32m   5638\u001b[0m     \u001b[38;5;28mself\u001b[39m, other \u001b[38;5;241m=\u001b[39m ops\u001b[38;5;241m.\u001b[39malign_method_SERIES(\u001b[38;5;28mself\u001b[39m, other)\n\u001b[0;32m-> 5639\u001b[0m     \u001b[38;5;28;01mreturn\u001b[39;00m \u001b[43mbase\u001b[49m\u001b[38;5;241;43m.\u001b[39;49m\u001b[43mIndexOpsMixin\u001b[49m\u001b[38;5;241;43m.\u001b[39;49m\u001b[43m_arith_method\u001b[49m\u001b[43m(\u001b[49m\u001b[38;5;28;43mself\u001b[39;49m\u001b[43m,\u001b[49m\u001b[43m \u001b[49m\u001b[43mother\u001b[49m\u001b[43m,\u001b[49m\u001b[43m \u001b[49m\u001b[43mop\u001b[49m\u001b[43m)\u001b[49m\n",
      "File \u001b[0;32m~/opt/anaconda3/lib/python3.9/site-packages/pandas/core/base.py:1295\u001b[0m, in \u001b[0;36mIndexOpsMixin._arith_method\u001b[0;34m(self, other, op)\u001b[0m\n\u001b[1;32m   1292\u001b[0m rvalues \u001b[38;5;241m=\u001b[39m ensure_wrapped_if_datetimelike(rvalues)\n\u001b[1;32m   1294\u001b[0m \u001b[38;5;28;01mwith\u001b[39;00m np\u001b[38;5;241m.\u001b[39merrstate(\u001b[38;5;28mall\u001b[39m\u001b[38;5;241m=\u001b[39m\u001b[38;5;124m\"\u001b[39m\u001b[38;5;124mignore\u001b[39m\u001b[38;5;124m\"\u001b[39m):\n\u001b[0;32m-> 1295\u001b[0m     result \u001b[38;5;241m=\u001b[39m \u001b[43mops\u001b[49m\u001b[38;5;241;43m.\u001b[39;49m\u001b[43marithmetic_op\u001b[49m\u001b[43m(\u001b[49m\u001b[43mlvalues\u001b[49m\u001b[43m,\u001b[49m\u001b[43m \u001b[49m\u001b[43mrvalues\u001b[49m\u001b[43m,\u001b[49m\u001b[43m \u001b[49m\u001b[43mop\u001b[49m\u001b[43m)\u001b[49m\n\u001b[1;32m   1297\u001b[0m \u001b[38;5;28;01mreturn\u001b[39;00m \u001b[38;5;28mself\u001b[39m\u001b[38;5;241m.\u001b[39m_construct_result(result, name\u001b[38;5;241m=\u001b[39mres_name)\n",
      "File \u001b[0;32m~/opt/anaconda3/lib/python3.9/site-packages/pandas/core/ops/array_ops.py:222\u001b[0m, in \u001b[0;36marithmetic_op\u001b[0;34m(left, right, op)\u001b[0m\n\u001b[1;32m    217\u001b[0m \u001b[38;5;28;01melse\u001b[39;00m:\n\u001b[1;32m    218\u001b[0m     \u001b[38;5;66;03m# TODO we should handle EAs consistently and move this check before the if/else\u001b[39;00m\n\u001b[1;32m    219\u001b[0m     \u001b[38;5;66;03m# (https://github.com/pandas-dev/pandas/issues/41165)\u001b[39;00m\n\u001b[1;32m    220\u001b[0m     _bool_arith_check(op, left, right)\n\u001b[0;32m--> 222\u001b[0m     res_values \u001b[38;5;241m=\u001b[39m \u001b[43m_na_arithmetic_op\u001b[49m\u001b[43m(\u001b[49m\u001b[43mleft\u001b[49m\u001b[43m,\u001b[49m\u001b[43m \u001b[49m\u001b[43mright\u001b[49m\u001b[43m,\u001b[49m\u001b[43m \u001b[49m\u001b[43mop\u001b[49m\u001b[43m)\u001b[49m\n\u001b[1;32m    224\u001b[0m \u001b[38;5;28;01mreturn\u001b[39;00m res_values\n",
      "File \u001b[0;32m~/opt/anaconda3/lib/python3.9/site-packages/pandas/core/ops/array_ops.py:170\u001b[0m, in \u001b[0;36m_na_arithmetic_op\u001b[0;34m(left, right, op, is_cmp)\u001b[0m\n\u001b[1;32m    164\u001b[0m \u001b[38;5;28;01mexcept\u001b[39;00m \u001b[38;5;167;01mTypeError\u001b[39;00m:\n\u001b[1;32m    165\u001b[0m     \u001b[38;5;28;01mif\u001b[39;00m \u001b[38;5;129;01mnot\u001b[39;00m is_cmp \u001b[38;5;129;01mand\u001b[39;00m (is_object_dtype(left\u001b[38;5;241m.\u001b[39mdtype) \u001b[38;5;129;01mor\u001b[39;00m is_object_dtype(right)):\n\u001b[1;32m    166\u001b[0m         \u001b[38;5;66;03m# For object dtype, fallback to a masked operation (only operating\u001b[39;00m\n\u001b[1;32m    167\u001b[0m         \u001b[38;5;66;03m#  on the non-missing values)\u001b[39;00m\n\u001b[1;32m    168\u001b[0m         \u001b[38;5;66;03m# Don't do this for comparisons, as that will handle complex numbers\u001b[39;00m\n\u001b[1;32m    169\u001b[0m         \u001b[38;5;66;03m#  incorrectly, see GH#32047\u001b[39;00m\n\u001b[0;32m--> 170\u001b[0m         result \u001b[38;5;241m=\u001b[39m \u001b[43m_masked_arith_op\u001b[49m\u001b[43m(\u001b[49m\u001b[43mleft\u001b[49m\u001b[43m,\u001b[49m\u001b[43m \u001b[49m\u001b[43mright\u001b[49m\u001b[43m,\u001b[49m\u001b[43m \u001b[49m\u001b[43mop\u001b[49m\u001b[43m)\u001b[49m\n\u001b[1;32m    171\u001b[0m     \u001b[38;5;28;01melse\u001b[39;00m:\n\u001b[1;32m    172\u001b[0m         \u001b[38;5;28;01mraise\u001b[39;00m\n",
      "File \u001b[0;32m~/opt/anaconda3/lib/python3.9/site-packages/pandas/core/ops/array_ops.py:127\u001b[0m, in \u001b[0;36m_masked_arith_op\u001b[0;34m(x, y, op)\u001b[0m\n\u001b[1;32m    124\u001b[0m         mask \u001b[38;5;241m=\u001b[39m np\u001b[38;5;241m.\u001b[39mwhere(y \u001b[38;5;241m==\u001b[39m \u001b[38;5;241m1\u001b[39m, \u001b[38;5;28;01mFalse\u001b[39;00m, mask)\n\u001b[1;32m    126\u001b[0m     \u001b[38;5;28;01mif\u001b[39;00m mask\u001b[38;5;241m.\u001b[39many():\n\u001b[0;32m--> 127\u001b[0m         result[mask] \u001b[38;5;241m=\u001b[39m \u001b[43mop\u001b[49m\u001b[43m(\u001b[49m\u001b[43mxrav\u001b[49m\u001b[43m[\u001b[49m\u001b[43mmask\u001b[49m\u001b[43m]\u001b[49m\u001b[43m,\u001b[49m\u001b[43m \u001b[49m\u001b[43my\u001b[49m\u001b[43m)\u001b[49m\n\u001b[1;32m    129\u001b[0m np\u001b[38;5;241m.\u001b[39mputmask(result, \u001b[38;5;241m~\u001b[39mmask, np\u001b[38;5;241m.\u001b[39mnan)\n\u001b[1;32m    130\u001b[0m result \u001b[38;5;241m=\u001b[39m result\u001b[38;5;241m.\u001b[39mreshape(x\u001b[38;5;241m.\u001b[39mshape)  \u001b[38;5;66;03m# 2D compat\u001b[39;00m\n",
      "\u001b[0;31mTypeError\u001b[0m: can only concatenate str (not \"int\") to str"
     ]
    }
   ],
   "source": [
    "# 文字列の四則演算はエラー\n",
    "s5 = pd.Series(['test'])\n",
    "s5 + 2\n",
    "s5"
   ]
  },
  {
   "cell_type": "markdown",
   "id": "f579e39c-940b-4e4b-b651-9061cdb09b6c",
   "metadata": {},
   "source": [
    "### Series同しの足し算"
   ]
  },
  {
   "cell_type": "code",
   "execution_count": 34,
   "id": "2f77d34a-096e-414e-ad9e-3a726ccd08b5",
   "metadata": {},
   "outputs": [
    {
     "data": {
      "text/plain": [
       "0    1\n",
       "1    3\n",
       "2    5\n",
       "3    7\n",
       "4    9\n",
       "dtype: int64"
      ]
     },
     "execution_count": 34,
     "metadata": {},
     "output_type": "execute_result"
    }
   ],
   "source": [
    "s2"
   ]
  },
  {
   "cell_type": "code",
   "execution_count": 35,
   "id": "25e8ad29-b7e6-45ef-8d57-c592c169b0fe",
   "metadata": {},
   "outputs": [
    {
     "data": {
      "text/plain": [
       "佐藤    1\n",
       "渡辺    3\n",
       "田中    5\n",
       "鈴木    7\n",
       "坂本    9\n",
       "dtype: int64"
      ]
     },
     "execution_count": 35,
     "metadata": {},
     "output_type": "execute_result"
    }
   ],
   "source": [
    "s2.index = ['佐藤', '渡辺', '田中', '鈴木', '坂本']\n",
    "s2"
   ]
  },
  {
   "cell_type": "code",
   "execution_count": 36,
   "id": "53f64f57-4f83-42af-8275-1105df1fc675",
   "metadata": {},
   "outputs": [
    {
     "data": {
      "text/plain": [
       "member\n",
       "佐藤    90\n",
       "鈴木    78\n",
       "坂本    65\n",
       "田中    87\n",
       "伊藤    72\n",
       "Name: score, dtype: int64"
      ]
     },
     "execution_count": 36,
     "metadata": {},
     "output_type": "execute_result"
    }
   ],
   "source": [
    "s1"
   ]
  },
  {
   "cell_type": "code",
   "execution_count": 37,
   "id": "e3aca26c-7e03-4beb-b82b-7ab60d23547b",
   "metadata": {},
   "outputs": [
    {
     "data": {
      "text/plain": [
       "伊藤     NaN\n",
       "佐藤    91.0\n",
       "坂本    74.0\n",
       "渡辺     NaN\n",
       "田中    92.0\n",
       "鈴木    85.0\n",
       "dtype: float64"
      ]
     },
     "execution_count": 37,
     "metadata": {},
     "output_type": "execute_result"
    }
   ],
   "source": [
    "s1 + s2"
   ]
  },
  {
   "cell_type": "markdown",
   "id": "51efe57d-a09a-4540-b56b-21e0defdf88f",
   "metadata": {},
   "source": [
    "### 欠損値確認"
   ]
  },
  {
   "cell_type": "code",
   "execution_count": 38,
   "id": "32bda976-f7cb-4e40-aced-13d8cf939986",
   "metadata": {},
   "outputs": [
    {
     "data": {
      "text/plain": [
       "member\n",
       "佐藤    90\n",
       "鈴木    78\n",
       "坂本    65\n",
       "田中    87\n",
       "伊藤    72\n",
       "Name: score, dtype: int64"
      ]
     },
     "execution_count": 38,
     "metadata": {},
     "output_type": "execute_result"
    }
   ],
   "source": [
    "s1"
   ]
  },
  {
   "cell_type": "code",
   "execution_count": 40,
   "id": "260af96c-e0f8-43cd-9994-5b015b45b7a4",
   "metadata": {},
   "outputs": [
    {
     "data": {
      "text/plain": [
       "False"
      ]
     },
     "execution_count": 40,
     "metadata": {},
     "output_type": "execute_result"
    }
   ],
   "source": [
    "s1.hasnans #　欠損値確認"
   ]
  },
  {
   "cell_type": "code",
   "execution_count": 43,
   "id": "87e062b6-91fe-402f-b2f2-51f45f6bc28a",
   "metadata": {},
   "outputs": [
    {
     "data": {
      "text/plain": [
       "0    90.0\n",
       "1    78.0\n",
       "2    65.0\n",
       "3     NaN\n",
       "4    72.0\n",
       "dtype: float64"
      ]
     },
     "execution_count": 43,
     "metadata": {},
     "output_type": "execute_result"
    }
   ],
   "source": [
    "# 欠損値ありのSeries制作\n",
    "s4 = pd.Series([90,78,65,None,72])\n",
    "s4"
   ]
  },
  {
   "cell_type": "code",
   "execution_count": 45,
   "id": "f14b5b13-eb45-4211-a547-2df9d21d2eda",
   "metadata": {},
   "outputs": [
    {
     "data": {
      "text/plain": [
       "True"
      ]
     },
     "execution_count": 45,
     "metadata": {},
     "output_type": "execute_result"
    }
   ],
   "source": [
    "s4.hasnans #　欠損値確認"
   ]
  },
  {
   "cell_type": "code",
   "execution_count": 46,
   "id": "e7a4f105-1c94-402b-ab53-c202ea8ba934",
   "metadata": {},
   "outputs": [
    {
     "data": {
      "text/plain": [
       "0    False\n",
       "1    False\n",
       "2    False\n",
       "3     True\n",
       "4    False\n",
       "dtype: bool"
      ]
     },
     "execution_count": 46,
     "metadata": {},
     "output_type": "execute_result"
    }
   ],
   "source": [
    "pd.isnull(s4) # 欠損値場所の確認"
   ]
  },
  {
   "cell_type": "code",
   "execution_count": null,
   "id": "68c79de8-281b-4988-8b36-427532f74b8c",
   "metadata": {},
   "outputs": [],
   "source": []
  },
  {
   "cell_type": "code",
   "execution_count": 47,
   "id": "511e040e-99b8-4a9a-af91-b2ce3c2f4482",
   "metadata": {},
   "outputs": [
    {
     "data": {
      "text/html": [
       "<div>\n",
       "<style scoped>\n",
       "    .dataframe tbody tr th:only-of-type {\n",
       "        vertical-align: middle;\n",
       "    }\n",
       "\n",
       "    .dataframe tbody tr th {\n",
       "        vertical-align: top;\n",
       "    }\n",
       "\n",
       "    .dataframe thead th {\n",
       "        text-align: right;\n",
       "    }\n",
       "</style>\n",
       "<table border=\"1\" class=\"dataframe\">\n",
       "  <thead>\n",
       "    <tr style=\"text-align: right;\">\n",
       "      <th></th>\n",
       "      <th>col01</th>\n",
       "      <th>col02</th>\n",
       "      <th>col03</th>\n",
       "    </tr>\n",
       "  </thead>\n",
       "  <tbody>\n",
       "    <tr>\n",
       "      <th>idx01</th>\n",
       "      <td>1</td>\n",
       "      <td>2</td>\n",
       "      <td>3</td>\n",
       "    </tr>\n",
       "    <tr>\n",
       "      <th>idx02</th>\n",
       "      <td>4</td>\n",
       "      <td>5</td>\n",
       "      <td>6</td>\n",
       "    </tr>\n",
       "    <tr>\n",
       "      <th>idx03</th>\n",
       "      <td>7</td>\n",
       "      <td>8</td>\n",
       "      <td>9</td>\n",
       "    </tr>\n",
       "  </tbody>\n",
       "</table>\n",
       "</div>"
      ],
      "text/plain": [
       "       col01  col02  col03\n",
       "idx01      1      2      3\n",
       "idx02      4      5      6\n",
       "idx03      7      8      9"
      ]
     },
     "execution_count": 47,
     "metadata": {},
     "output_type": "execute_result"
    }
   ],
   "source": [
    "# DataFrameの作成\n",
    "df = pd.DataFrame([[1,2,3],[4,5,6],[7,8,9]],\n",
    "                    columns=['col01', 'col02', 'col03'],\n",
    "                    index=['idx01','idx02','idx03'])\n",
    "df"
   ]
  },
  {
   "cell_type": "code",
   "execution_count": 49,
   "id": "ac0e7f49-7d05-4e41-aeec-b4bcac7c5951",
   "metadata": {},
   "outputs": [
    {
     "data": {
      "text/plain": [
       "idx01    1\n",
       "idx02    4\n",
       "idx03    7\n",
       "Name: col01, dtype: int64"
      ]
     },
     "execution_count": 49,
     "metadata": {},
     "output_type": "execute_result"
    }
   ],
   "source": [
    "df['col01'] # DataFrameからSeriesの取得"
   ]
  },
  {
   "cell_type": "code",
   "execution_count": 50,
   "id": "4d8cfebf-4fe3-4ffb-b524-b09c5859fbf2",
   "metadata": {},
   "outputs": [
    {
     "data": {
      "text/plain": [
       "pandas.core.series.Series"
      ]
     },
     "execution_count": 50,
     "metadata": {},
     "output_type": "execute_result"
    }
   ],
   "source": [
    "type(df['col01']) # データ型の確認"
   ]
  },
  {
   "cell_type": "code",
   "execution_count": 51,
   "id": "ef327418-5215-498f-97ba-70c28a1436da",
   "metadata": {},
   "outputs": [
    {
     "data": {
      "text/plain": [
       "idx01    10\n",
       "idx02    11\n",
       "idx03    12\n",
       "dtype: int64"
      ]
     },
     "execution_count": 51,
     "metadata": {},
     "output_type": "execute_result"
    }
   ],
   "source": [
    "# DataFrameにSeriesを追加\n",
    "s5 = pd.Series({'idx01':10, 'idx02':11, 'idx03':12})\n",
    "s5"
   ]
  },
  {
   "cell_type": "code",
   "execution_count": 52,
   "id": "07263853-99fa-49e0-b41b-eacf1b4546af",
   "metadata": {},
   "outputs": [
    {
     "data": {
      "text/html": [
       "<div>\n",
       "<style scoped>\n",
       "    .dataframe tbody tr th:only-of-type {\n",
       "        vertical-align: middle;\n",
       "    }\n",
       "\n",
       "    .dataframe tbody tr th {\n",
       "        vertical-align: top;\n",
       "    }\n",
       "\n",
       "    .dataframe thead th {\n",
       "        text-align: right;\n",
       "    }\n",
       "</style>\n",
       "<table border=\"1\" class=\"dataframe\">\n",
       "  <thead>\n",
       "    <tr style=\"text-align: right;\">\n",
       "      <th></th>\n",
       "      <th>col01</th>\n",
       "      <th>col02</th>\n",
       "      <th>col03</th>\n",
       "      <th>col04</th>\n",
       "    </tr>\n",
       "  </thead>\n",
       "  <tbody>\n",
       "    <tr>\n",
       "      <th>idx01</th>\n",
       "      <td>1</td>\n",
       "      <td>2</td>\n",
       "      <td>3</td>\n",
       "      <td>10</td>\n",
       "    </tr>\n",
       "    <tr>\n",
       "      <th>idx02</th>\n",
       "      <td>4</td>\n",
       "      <td>5</td>\n",
       "      <td>6</td>\n",
       "      <td>11</td>\n",
       "    </tr>\n",
       "    <tr>\n",
       "      <th>idx03</th>\n",
       "      <td>7</td>\n",
       "      <td>8</td>\n",
       "      <td>9</td>\n",
       "      <td>12</td>\n",
       "    </tr>\n",
       "  </tbody>\n",
       "</table>\n",
       "</div>"
      ],
      "text/plain": [
       "       col01  col02  col03  col04\n",
       "idx01      1      2      3     10\n",
       "idx02      4      5      6     11\n",
       "idx03      7      8      9     12"
      ]
     },
     "execution_count": 52,
     "metadata": {},
     "output_type": "execute_result"
    }
   ],
   "source": [
    "# 代入で追加\n",
    "df['col04'] = s5\n",
    "df"
   ]
  },
  {
   "cell_type": "code",
   "execution_count": null,
   "id": "9ff977ad-9a9b-4342-bf5c-f200e9415cb9",
   "metadata": {},
   "outputs": [],
   "source": []
  },
  {
   "cell_type": "code",
   "execution_count": 53,
   "id": "7afc409e-12ad-4a76-8950-2b4e8eea0b49",
   "metadata": {},
   "outputs": [
    {
     "data": {
      "text/plain": [
       "idx03    13\n",
       "idx04    14\n",
       "idx05    15\n",
       "dtype: int64"
      ]
     },
     "execution_count": 53,
     "metadata": {},
     "output_type": "execute_result"
    }
   ],
   "source": [
    "# index名の違うSeriesの追加\n",
    "s6 = pd.Series({'idx03':13, 'idx04':14, 'idx05':15})\n",
    "s6"
   ]
  },
  {
   "cell_type": "code",
   "execution_count": 54,
   "id": "6d9e285f-604b-4d88-b7a5-d04d7a3b4433",
   "metadata": {},
   "outputs": [
    {
     "data": {
      "text/html": [
       "<div>\n",
       "<style scoped>\n",
       "    .dataframe tbody tr th:only-of-type {\n",
       "        vertical-align: middle;\n",
       "    }\n",
       "\n",
       "    .dataframe tbody tr th {\n",
       "        vertical-align: top;\n",
       "    }\n",
       "\n",
       "    .dataframe thead th {\n",
       "        text-align: right;\n",
       "    }\n",
       "</style>\n",
       "<table border=\"1\" class=\"dataframe\">\n",
       "  <thead>\n",
       "    <tr style=\"text-align: right;\">\n",
       "      <th></th>\n",
       "      <th>col01</th>\n",
       "      <th>col02</th>\n",
       "      <th>col03</th>\n",
       "      <th>col04</th>\n",
       "      <th>col05</th>\n",
       "    </tr>\n",
       "  </thead>\n",
       "  <tbody>\n",
       "    <tr>\n",
       "      <th>idx01</th>\n",
       "      <td>1</td>\n",
       "      <td>2</td>\n",
       "      <td>3</td>\n",
       "      <td>10</td>\n",
       "      <td>NaN</td>\n",
       "    </tr>\n",
       "    <tr>\n",
       "      <th>idx02</th>\n",
       "      <td>4</td>\n",
       "      <td>5</td>\n",
       "      <td>6</td>\n",
       "      <td>11</td>\n",
       "      <td>NaN</td>\n",
       "    </tr>\n",
       "    <tr>\n",
       "      <th>idx03</th>\n",
       "      <td>7</td>\n",
       "      <td>8</td>\n",
       "      <td>9</td>\n",
       "      <td>12</td>\n",
       "      <td>13.0</td>\n",
       "    </tr>\n",
       "  </tbody>\n",
       "</table>\n",
       "</div>"
      ],
      "text/plain": [
       "       col01  col02  col03  col04  col05\n",
       "idx01      1      2      3     10    NaN\n",
       "idx02      4      5      6     11    NaN\n",
       "idx03      7      8      9     12   13.0"
      ]
     },
     "execution_count": 54,
     "metadata": {},
     "output_type": "execute_result"
    }
   ],
   "source": [
    "# 同名indexのみ追加ほかはNaN\n",
    "df['col05'] = s6\n",
    "df"
   ]
  },
  {
   "cell_type": "markdown",
   "id": "48a64fcd-b7b2-40dd-845c-96328f13b433",
   "metadata": {},
   "source": [
    "### 時系列データ"
   ]
  },
  {
   "cell_type": "code",
   "execution_count": 55,
   "id": "2dda3082-a251-472c-89dd-85e62f18fe13",
   "metadata": {},
   "outputs": [
    {
     "data": {
      "text/plain": [
       "DatetimeIndex(['2000-01-01', '2000-01-02', '2000-01-03', '2000-01-04',\n",
       "               '2000-01-05'],\n",
       "              dtype='datetime64[ns]', freq='D')"
      ]
     },
     "execution_count": 55,
     "metadata": {},
     "output_type": "execute_result"
    }
   ],
   "source": [
    "# 時系列データの作成\n",
    "dates = pd.date_range('2000/1/1', periods = 5, freq = 'D')\n",
    "dates"
   ]
  },
  {
   "cell_type": "code",
   "execution_count": 56,
   "id": "2cbbaa65-7c76-4a67-b9f4-3368d928c0f0",
   "metadata": {},
   "outputs": [
    {
     "data": {
      "text/plain": [
       "pandas.core.indexes.datetimes.DatetimeIndex"
      ]
     },
     "execution_count": 56,
     "metadata": {},
     "output_type": "execute_result"
    }
   ],
   "source": [
    "type(dates) # データ型の表示"
   ]
  },
  {
   "cell_type": "markdown",
   "id": "26241e82-ab08-45c2-ac15-1537400fa39f",
   "metadata": {},
   "source": [
    "#### これをindex名にする"
   ]
  },
  {
   "cell_type": "code",
   "execution_count": 57,
   "id": "d8a41f89-471e-4db4-bb5f-4e5a64f8c8a7",
   "metadata": {},
   "outputs": [
    {
     "data": {
      "text/plain": [
       "member\n",
       "佐藤    90\n",
       "鈴木    78\n",
       "坂本    65\n",
       "田中    87\n",
       "伊藤    72\n",
       "Name: score, dtype: int64"
      ]
     },
     "execution_count": 57,
     "metadata": {},
     "output_type": "execute_result"
    }
   ],
   "source": [
    "s1"
   ]
  },
  {
   "cell_type": "code",
   "execution_count": 58,
   "id": "1369bfb3-ffbb-4665-8b79-f38130462200",
   "metadata": {},
   "outputs": [
    {
     "data": {
      "text/plain": [
       "2000-01-01    90\n",
       "2000-01-02    78\n",
       "2000-01-03    65\n",
       "2000-01-04    87\n",
       "2000-01-05    72\n",
       "Freq: D, Name: score, dtype: int64"
      ]
     },
     "execution_count": 58,
     "metadata": {},
     "output_type": "execute_result"
    }
   ],
   "source": [
    "s1.index = dates\n",
    "s1"
   ]
  },
  {
   "cell_type": "code",
   "execution_count": null,
   "id": "5382575d-ba74-4594-9bd7-c04743dd5b8f",
   "metadata": {},
   "outputs": [],
   "source": []
  }
 ],
 "metadata": {
  "kernelspec": {
   "display_name": "Python 3 (ipykernel)",
   "language": "python",
   "name": "python3"
  },
  "language_info": {
   "codemirror_mode": {
    "name": "ipython",
    "version": 3
   },
   "file_extension": ".py",
   "mimetype": "text/x-python",
   "name": "python",
   "nbconvert_exporter": "python",
   "pygments_lexer": "ipython3",
   "version": "3.9.12"
  }
 },
 "nbformat": 4,
 "nbformat_minor": 5
}
