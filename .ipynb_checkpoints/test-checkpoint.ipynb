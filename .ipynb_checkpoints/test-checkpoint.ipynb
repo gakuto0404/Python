{
 "cells": [
  {
   "cell_type": "code",
   "execution_count": 7,
   "id": "7bf2f445-ec56-463a-b571-d0323da8bf67",
   "metadata": {},
   "outputs": [
    {
     "name": "stdout",
     "output_type": "stream",
     "text": [
      "3\n"
     ]
    }
   ],
   "source": [
    "print(1+2)"
   ]
  },
  {
   "cell_type": "code",
   "execution_count": 8,
   "id": "3aab626e-c605-400c-aabd-1e5bbfa584c0",
   "metadata": {},
   "outputs": [
    {
     "name": "stdout",
     "output_type": "stream",
     "text": [
      "Hello world\n"
     ]
    }
   ],
   "source": [
    "print(\"Hello world\")"
   ]
  },
  {
   "cell_type": "markdown",
   "id": "8dd16ba9-0181-43f0-8fba-2da713561e1d",
   "metadata": {},
   "source": [
    "こんにちは"
   ]
  },
  {
   "cell_type": "code",
   "execution_count": null,
   "id": "d66b9bc8-1f45-41f4-b5fb-5e8a4df9d981",
   "metadata": {},
   "outputs": [],
   "source": [
    "print"
   ]
  },
  {
   "cell_type": "code",
   "execution_count": null,
   "id": "44904456-05a4-4722-b392-97c21c3386bc",
   "metadata": {},
   "outputs": [],
   "source": []
  },
  {
   "cell_type": "code",
   "execution_count": null,
   "id": "c29ca7a9-1075-4e3d-b4cc-7e436415ead8",
   "metadata": {},
   "outputs": [],
   "source": []
  },
  {
   "cell_type": "code",
   "execution_count": null,
   "id": "67bc644f-f86a-4b27-aec3-ebef88129786",
   "metadata": {},
   "outputs": [],
   "source": []
  }
 ],
 "metadata": {
  "kernelspec": {
   "display_name": "Python 3 (ipykernel)",
   "language": "python",
   "name": "python3"
  },
  "language_info": {
   "codemirror_mode": {
    "name": "ipython",
    "version": 3
   },
   "file_extension": ".py",
   "mimetype": "text/x-python",
   "name": "python",
   "nbconvert_exporter": "python",
   "pygments_lexer": "ipython3",
   "version": "3.9.12"
  }
 },
 "nbformat": 4,
 "nbformat_minor": 5
}
